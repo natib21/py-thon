{
 "cells": [
  {
   "cell_type": "code",
   "execution_count": 1,
   "id": "0f0cafdb-7917-44e7-899c-0f5839aa601b",
   "metadata": {},
   "outputs": [],
   "source": [
    "stock_price = [('APPL',200),('GOOG',400),('MSFT',100)]"
   ]
  },
  {
   "cell_type": "code",
   "execution_count": 2,
   "id": "bacc63b4-5185-4b0b-9bf0-e2101b37133b",
   "metadata": {},
   "outputs": [
    {
     "name": "stdout",
     "output_type": "stream",
     "text": [
      "('APPL', 200)\n",
      "('GOOG', 400)\n",
      "('MSFT', 100)\n"
     ]
    }
   ],
   "source": [
    "for n in stock_price:\n",
    "    print(n)"
   ]
  },
  {
   "cell_type": "code",
   "execution_count": 5,
   "id": "82acef44-1c58-4252-a962-fb9ad0e4b17c",
   "metadata": {},
   "outputs": [
    {
     "name": "stdout",
     "output_type": "stream",
     "text": [
      "APPL 200\n",
      "GOOG 400\n",
      "MSFT 100\n"
     ]
    }
   ],
   "source": [
    "for keys,values in stock_price:\n",
    "    print(keys,values)"
   ]
  },
  {
   "cell_type": "code",
   "execution_count": 6,
   "id": "42efe6ab-86b1-4874-af88-cf8e03a02732",
   "metadata": {},
   "outputs": [],
   "source": [
    "work_hours = [('Abebe',200),('Bekele',4000),('Ayele',1000)]"
   ]
  },
  {
   "cell_type": "code",
   "execution_count": 7,
   "id": "875555cd-8017-4aa8-8ee9-0e633edd1d85",
   "metadata": {},
   "outputs": [],
   "source": [
    "def employee_of_the_month(work):\n",
    "    Current_hour = 0\n",
    "    Employee = ''\n",
    "    for name,value in work:\n",
    "        if value > Current_hour:\n",
    "            Current_hour = value\n",
    "            Employee = name\n",
    "        else:\n",
    "            pass\n",
    "    return (Employee,Current_hour)"
   ]
  },
  {
   "cell_type": "code",
   "execution_count": 9,
   "id": "363127a2-c1d3-48ea-8e4b-f9a1efd72e93",
   "metadata": {},
   "outputs": [
    {
     "data": {
      "text/plain": [
       "('Bekele', 4000)"
      ]
     },
     "execution_count": 9,
     "metadata": {},
     "output_type": "execute_result"
    }
   ],
   "source": [
    "employee_of_the_month(work_hours)"
   ]
  },
  {
   "cell_type": "code",
   "execution_count": null,
   "id": "8e9b4b06-065b-46d6-b5cc-673ea0f729ce",
   "metadata": {},
   "outputs": [],
   "source": []
  }
 ],
 "metadata": {
  "kernelspec": {
   "display_name": "Python 3 (ipykernel)",
   "language": "python",
   "name": "python3"
  },
  "language_info": {
   "codemirror_mode": {
    "name": "ipython",
    "version": 3
   },
   "file_extension": ".py",
   "mimetype": "text/x-python",
   "name": "python",
   "nbconvert_exporter": "python",
   "pygments_lexer": "ipython3",
   "version": "3.12.7"
  }
 },
 "nbformat": 4,
 "nbformat_minor": 5
}
