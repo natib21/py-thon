{
 "cells": [
  {
   "cell_type": "raw",
   "id": "494c4bee-34d1-4e1a-a476-a1373b105abc",
   "metadata": {},
   "source": [
    "LESSER OF TWO EVENS: Write a function that returns the lesser of two given numbers if both numbers are even, but returns the greater if one or both numbers are odd\n",
    "\n",
    "lesser_of_two_evens(2,4) --> 2\n",
    "lesser_of_two_evens(2,5) --> 5"
   ]
  },
  {
   "cell_type": "code",
   "execution_count": 4,
   "id": "4ea69107-6d7e-44cd-9afb-c86b5c777570",
   "metadata": {},
   "outputs": [],
   "source": [
    "def lesser_of_two_evens(a, b):\n",
    "    if a % 2 == 0 and b % 2 == 0:\n",
    "        return min(a, b)\n",
    "    else:\n",
    "        return max(a, b)\n"
   ]
  },
  {
   "cell_type": "code",
   "execution_count": 5,
   "id": "dc8879c5-6b20-41a2-8d28-fa3c7982008b",
   "metadata": {},
   "outputs": [
    {
     "data": {
      "text/plain": [
       "5"
      ]
     },
     "execution_count": 5,
     "metadata": {},
     "output_type": "execute_result"
    }
   ],
   "source": [
    "final_val = lesser_of_two_evens(2,5)\n",
    "final_val"
   ]
  },
  {
   "cell_type": "raw",
   "id": "28725e2d-5b54-49a1-b369-056c1adcd759",
   "metadata": {},
   "source": [
    "ANIMAL CRACKERS: Write a function takes a two-word string and returns True if both words begin with same letter\n",
    "animal_crackers('Levelheaded Llama') --> True\n",
    "animal_crackers('Crazy Kangaroo') --> False"
   ]
  },
  {
   "cell_type": "code",
   "execution_count": 19,
   "id": "f9365f89-048a-4bb1-b9e5-3b319fe5e03f",
   "metadata": {},
   "outputs": [],
   "source": [
    "def animal_crackers(text):\n",
    "    words = text.lower().split()\n",
    "    return words[0][0] == words[1][0]\n"
   ]
  },
  {
   "cell_type": "code",
   "execution_count": 20,
   "id": "3be95259-da93-4259-8014-4c82f73116be",
   "metadata": {},
   "outputs": [
    {
     "data": {
      "text/plain": [
       "False"
      ]
     },
     "execution_count": 20,
     "metadata": {},
     "output_type": "execute_result"
    }
   ],
   "source": [
    "val = animal_crackers(\"Crazy Kangaroo\")\n",
    "val"
   ]
  },
  {
   "cell_type": "raw",
   "id": "6b96fb5d-eed0-4bef-b30e-4ff5b16ac2cf",
   "metadata": {},
   "source": [
    "MAKES TWENTY: Given two integers, return True if the sum of the integers is 20 or if one of the integers is 20. If not, return False\n",
    "makes_twenty(20,10) --> True\n",
    "makes_twenty(12,8) --> True\n",
    "makes_twenty(2,3) --> False"
   ]
  },
  {
   "cell_type": "code",
   "execution_count": 36,
   "id": "36b93a36-14f9-4ce5-aff1-c621fce4ac0c",
   "metadata": {},
   "outputs": [],
   "source": [
    "def makes_twenty(a, b):\n",
    "    return a == 20 or b == 20 or (a + b) == 20\n"
   ]
  },
  {
   "cell_type": "code",
   "execution_count": 37,
   "id": "a08b9590-01e5-4849-a9fe-84a0c06df522",
   "metadata": {},
   "outputs": [
    {
     "data": {
      "text/plain": [
       "True"
      ]
     },
     "execution_count": 37,
     "metadata": {},
     "output_type": "execute_result"
    }
   ],
   "source": [
    "makes_twenty(20,10)"
   ]
  },
  {
   "cell_type": "code",
   "execution_count": 38,
   "id": "e1204a49-468d-4ce8-8bb9-a7bca0012909",
   "metadata": {},
   "outputs": [
    {
     "data": {
      "text/plain": [
       "False"
      ]
     },
     "execution_count": 38,
     "metadata": {},
     "output_type": "execute_result"
    }
   ],
   "source": [
    "makes_twenty(2,3)\n"
   ]
  },
  {
   "cell_type": "code",
   "execution_count": 39,
   "id": "8028c3cf-e3eb-43d6-ac51-1630e6fb9063",
   "metadata": {},
   "outputs": [
    {
     "data": {
      "text/plain": [
       "True"
      ]
     },
     "execution_count": 39,
     "metadata": {},
     "output_type": "execute_result"
    }
   ],
   "source": [
    "makes_twenty(12,8)"
   ]
  },
  {
   "cell_type": "raw",
   "id": "59c341f6-7aff-4659-890f-eafc0220ef72",
   "metadata": {},
   "source": [
    "LEVEL 1 PROBLEMS\n",
    "OLD MACDONALD: Write a function that capitalizes the first and fourth letters of a name\n",
    " \n",
    "old_macdonald('macdonald') --> MacDonald\n",
    "Note: 'macdonald'.capitalize() returns 'Macdonald'"
   ]
  },
  {
   "cell_type": "code",
   "execution_count": 124,
   "id": "b5329716-9dd4-4e87-987a-8eeb90047ac5",
   "metadata": {},
   "outputs": [],
   "source": [
    "def old_macdonald(name):\n",
    "    if len(name) < 4:\n",
    "        return \"Name too short!\"\n",
    "    return name[0].upper() + name[1:3] + name[3].upper() + name[4:]\n"
   ]
  },
  {
   "cell_type": "code",
   "execution_count": 125,
   "id": "87796fc8-f44a-4f5d-8660-67ac02bcebb1",
   "metadata": {},
   "outputs": [
    {
     "data": {
      "text/plain": [
       "'MamA'"
      ]
     },
     "execution_count": 125,
     "metadata": {},
     "output_type": "execute_result"
    }
   ],
   "source": [
    "old_macdonald('macdonald')\n",
    "old_macdonald('nathnael')\n",
    "\n",
    "old_macdonald('mama')"
   ]
  },
  {
   "cell_type": "raw",
   "id": "d653efb8-5d87-4a0c-86fe-f0f3408dffc8",
   "metadata": {},
   "source": [
    "MASTER YODA: Given a sentence, return a sentence with the words reversed\n",
    "master_yoda('I am home') --> 'home am I'\n",
    "master_yoda('We are ready') --> 'ready are We'\n",
    "Note: The .join() method may be useful here. The .join() method allows you to join together strings in a list with some connector string. For example, some uses of the .join() method:\n",
    "\n",
    ">>> \"--\".join(['a','b','c'])\n",
    ">>> 'a--b--c'\n",
    "This means if you had a list of words you wanted to turn back into a sentence, you could just join them with a single space string:\n",
    "\n",
    ">>> \" \".join(['Hello','world'])\n",
    ">>> \"Hello world\""
   ]
  },
  {
   "cell_type": "code",
   "execution_count": 140,
   "id": "9104e68c-0cba-4b1c-9b2d-d0d4863bfe5b",
   "metadata": {},
   "outputs": [],
   "source": [
    "def master_yoda(text):\n",
    "    return ' '.join(text.split()[::-1])\n"
   ]
  },
  {
   "cell_type": "code",
   "execution_count": 141,
   "id": "02a72211-abea-4219-a7f8-ee800e16a611",
   "metadata": {},
   "outputs": [
    {
     "data": {
      "text/plain": [
       "'home am I'"
      ]
     },
     "execution_count": 141,
     "metadata": {},
     "output_type": "execute_result"
    }
   ],
   "source": [
    "master_yoda('I am home')"
   ]
  },
  {
   "cell_type": "raw",
   "id": "0abe1838-a47e-4af3-abde-6b554ca809c2",
   "metadata": {},
   "source": [
    "ALMOST THERE: Given an integer n, return True if n is within 10 of either 100 or 200\n",
    "almost_there(90) --> True\n",
    "almost_there(104) --> True\n",
    "almost_there(150) --> False\n",
    "almost_there(209) --> True\n",
    "NOTE: abs(num) returns the absolute value of a number"
   ]
  },
  {
   "cell_type": "code",
   "execution_count": 143,
   "id": "6372e737-8741-4c55-8154-ba0c4836fab0",
   "metadata": {},
   "outputs": [],
   "source": [
    "def almost_there(n):\n",
    "    return (90 <= n <= 110) or (190 <= n <= 210)\n",
    "        \n",
    "\n",
    "        "
   ]
  },
  {
   "cell_type": "code",
   "execution_count": 144,
   "id": "bc51ae38-3b83-4af7-8bb9-de942e6856bc",
   "metadata": {},
   "outputs": [
    {
     "data": {
      "text/plain": [
       "True"
      ]
     },
     "execution_count": 144,
     "metadata": {},
     "output_type": "execute_result"
    }
   ],
   "source": [
    "almost_there(90)"
   ]
  },
  {
   "cell_type": "code",
   "execution_count": 145,
   "id": "b52067c0-c126-45cc-82db-f63ff0e97192",
   "metadata": {},
   "outputs": [
    {
     "data": {
      "text/plain": [
       "True"
      ]
     },
     "execution_count": 145,
     "metadata": {},
     "output_type": "execute_result"
    }
   ],
   "source": [
    "almost_there(104)"
   ]
  },
  {
   "cell_type": "code",
   "execution_count": 146,
   "id": "cdd63af7-566e-4f98-a065-e5cd9e4c55c2",
   "metadata": {},
   "outputs": [
    {
     "data": {
      "text/plain": [
       "False"
      ]
     },
     "execution_count": 146,
     "metadata": {},
     "output_type": "execute_result"
    }
   ],
   "source": [
    "almost_there(150)"
   ]
  },
  {
   "cell_type": "code",
   "execution_count": 147,
   "id": "940feac6-62c4-4621-9e6a-1aaa7ed593c0",
   "metadata": {},
   "outputs": [
    {
     "data": {
      "text/plain": [
       "True"
      ]
     },
     "execution_count": 147,
     "metadata": {},
     "output_type": "execute_result"
    }
   ],
   "source": [
    "almost_there(209)"
   ]
  },
  {
   "cell_type": "raw",
   "id": "378d94e0-f74b-4f30-9d83-a1708725c0e2",
   "metadata": {},
   "source": [
    "LEVEL 2 PROBLEMS\n",
    "FIND 33:\n",
    "Given a list of ints, return True if the array contains a 3 next to a 3 somewhere.\n",
    "\n",
    "has_33([1, 3, 3]) → True\n",
    "has_33([1, 3, 1, 3]) → Fal"
   ]
  },
  {
   "cell_type": "code",
   "execution_count": 148,
   "id": "1bf2727b-ca9a-4ee4-952b-f507cf9b5578",
   "metadata": {},
   "outputs": [],
   "source": [
    "def has_33(nums):\n",
    "    for i in range(len(nums) - 1):\n",
    "        if nums[i] == 3 and nums[i + 1] == 3:\n",
    "            return True\n",
    "    return False\n"
   ]
  },
  {
   "cell_type": "code",
   "execution_count": 149,
   "id": "e1ebd246-39e9-4ac3-9fe3-c37d096e74fb",
   "metadata": {},
   "outputs": [
    {
     "data": {
      "text/plain": [
       "True"
      ]
     },
     "execution_count": 149,
     "metadata": {},
     "output_type": "execute_result"
    }
   ],
   "source": [
    "has_33([1, 3, 3])"
   ]
  },
  {
   "cell_type": "raw",
   "id": "1336829b-a2f8-4cde-bfea-3729eeb3de7a",
   "metadata": {},
   "source": [
    "PAPER DOLL: Given a string, return a string where for every character in the original there are three characters\n",
    "paper_doll('Hello') --> 'HHHeeellllllooo'\n",
    "paper_doll('Mississippi') --> 'MMMiiissssssiiippppppiii'"
   ]
  },
  {
   "cell_type": "code",
   "execution_count": 166,
   "id": "a3b81888-69cf-417d-9fe7-725362780e39",
   "metadata": {},
   "outputs": [],
   "source": [
    "def paper_doll(text):\n",
    "    val= ''\n",
    "    for n in range(len(text)):\n",
    "        val =val + text[n] * 3\n",
    "    return val\n",
    "        "
   ]
  },
  {
   "cell_type": "code",
   "execution_count": 171,
   "id": "8fd2739f-fc07-40d1-8f2c-a38fdce66ecf",
   "metadata": {},
   "outputs": [
    {
     "data": {
      "text/plain": [
       "'MMMiiissssssiiissssssiiippppppiii'"
      ]
     },
     "execution_count": 171,
     "metadata": {},
     "output_type": "execute_result"
    }
   ],
   "source": [
    "paper_doll('Mississippi')"
   ]
  },
  {
   "cell_type": "raw",
   "id": "01260044-0de3-49dd-bea2-7e02a738e5d5",
   "metadata": {},
   "source": [
    "BLACKJACK: Given three integers between 1 and 11, if their sum is less than or equal to 21, return their sum. If their sum exceeds 21 and there's an eleven, reduce the total sum by 10. Finally, if the sum (even after adjustment) exceeds 21, return 'BUST'\n",
    "blackjack(5,6,7) --> 18\n",
    "blackjack(9,9,9) --> 'BUST'\n",
    "blackjack(9,9,11) --> 19"
   ]
  },
  {
   "cell_type": "code",
   "execution_count": 183,
   "id": "8bf4313e-9d12-41b3-b20c-8e204420994f",
   "metadata": {},
   "outputs": [],
   "source": [
    "def blackjack(a,b,c):\n",
    "    res = a + b + c\n",
    "    if res <= 21:\n",
    "        return res\n",
    "    elif (res > 21) and 11 in [a,b,c]:\n",
    "        if res - 10 > 21:\n",
    "            return 'BUST'\n",
    "        else:\n",
    "            return res - 10\n",
    "    else:\n",
    "        return 'BUST'"
   ]
  },
  {
   "cell_type": "code",
   "execution_count": 184,
   "id": "add7025d-0c2e-416f-b9e9-8b9227cd2e70",
   "metadata": {},
   "outputs": [
    {
     "data": {
      "text/plain": [
       "19"
      ]
     },
     "execution_count": 184,
     "metadata": {},
     "output_type": "execute_result"
    }
   ],
   "source": [
    "blackjack(9,9,11)"
   ]
  },
  {
   "cell_type": "code",
   "execution_count": 185,
   "id": "d55a7e5e-8018-428a-815a-3d74ed885e6f",
   "metadata": {},
   "outputs": [
    {
     "data": {
      "text/plain": [
       "'BUST'"
      ]
     },
     "execution_count": 185,
     "metadata": {},
     "output_type": "execute_result"
    }
   ],
   "source": [
    "blackjack(9,9,9)"
   ]
  },
  {
   "cell_type": "code",
   "execution_count": 186,
   "id": "e3fb503d-5d0c-497b-91cc-2094fe70bd17",
   "metadata": {},
   "outputs": [
    {
     "data": {
      "text/plain": [
       "19"
      ]
     },
     "execution_count": 186,
     "metadata": {},
     "output_type": "execute_result"
    }
   ],
   "source": [
    "blackjack(9,9,11)"
   ]
  },
  {
   "cell_type": "raw",
   "id": "90c37a50-8472-4c3a-8797-cbf272a3bd9d",
   "metadata": {},
   "source": [
    "SUMMER OF '69: Return the sum of the numbers in the array, except ignore sections of numbers starting with a 6 and extending to the next 9 (every 6 will be followed by at least one 9). Return 0 for no numbers.\n",
    "summer_69([1, 3, 5]) --> 9\n",
    "summer_69([4, 5, 6, 7, 8, 9]) --> 9\n",
    "summer_69([2, 1, 6, 9, 11]) --> 14"
   ]
  },
  {
   "cell_type": "code",
   "execution_count": 295,
   "id": "944b9260-4b68-43b3-9d5e-7bed0f926146",
   "metadata": {},
   "outputs": [],
   "source": [
    "def summer_69(arr):\n",
    "    val =0\n",
    "    v = 0\n",
    "    t= 0\n",
    "    if 6 in arr:\n",
    "        for i in range(len(arr) ):\n",
    "            if arr[i] == 6:\n",
    "               v =i\n",
    "            elif arr[i] == 9:\n",
    "                t =i\n",
    "        return sum(arr[:v] + arr[t+1:])\n",
    "    else:\n",
    "        for i in range(len(arr)):\n",
    "            val = val + arr[i]\n",
    "        return val\n",
    "    "
   ]
  },
  {
   "cell_type": "code",
   "execution_count": 296,
   "id": "c8436827-cec3-4bcc-aa7b-923ad3076ec5",
   "metadata": {},
   "outputs": [
    {
     "data": {
      "text/plain": [
       "14"
      ]
     },
     "execution_count": 296,
     "metadata": {},
     "output_type": "execute_result"
    }
   ],
   "source": [
    "summer_69([2, 1, 6, 9, 11])"
   ]
  },
  {
   "cell_type": "code",
   "execution_count": 297,
   "id": "21169cb0-dd8e-41fd-aaf2-997d57964268",
   "metadata": {},
   "outputs": [
    {
     "data": {
      "text/plain": [
       "9"
      ]
     },
     "execution_count": 297,
     "metadata": {},
     "output_type": "execute_result"
    }
   ],
   "source": [
    "summer_69([1, 3, 5])"
   ]
  },
  {
   "cell_type": "code",
   "execution_count": 298,
   "id": "89b30278-e058-4025-a7db-8447313698b8",
   "metadata": {},
   "outputs": [
    {
     "data": {
      "text/plain": [
       "9"
      ]
     },
     "execution_count": 298,
     "metadata": {},
     "output_type": "execute_result"
    }
   ],
   "source": [
    "summer_69([4, 5, 6, 7, 8, 9])"
   ]
  },
  {
   "cell_type": "code",
   "execution_count": 300,
   "id": "1f5a16f3-be4e-4bd3-bef2-5ae48ea89dca",
   "metadata": {},
   "outputs": [
    {
     "data": {
      "text/plain": [
       "0"
      ]
     },
     "execution_count": 300,
     "metadata": {},
     "output_type": "execute_result"
    }
   ],
   "source": [
    "summer_69([])"
   ]
  },
  {
   "cell_type": "raw",
   "id": "dfb220b4-d230-4a24-a113-924c9a2535da",
   "metadata": {},
   "source": [
    "CHALLENGING PROBLEMS\n",
    "SPY GAME: Write a function that takes in a list of integers and returns True if it contains 007 in order\n",
    " spy_game([1,2,4,0,0,7,5]) --> True\n",
    " spy_game([1,0,2,4,0,5,7]) --> True\n",
    " spy_game([1,7,2,0,4,5,0]) --> False"
   ]
  },
  {
   "cell_type": "code",
   "execution_count": 372,
   "id": "719cae16-1d7d-418f-b912-1d382c620769",
   "metadata": {},
   "outputs": [],
   "source": [
    "def spy_game(nums):\n",
    "    code = [0, 0, 7]\n",
    "    for num in nums:\n",
    "        if num == code[0]:\n",
    "            code.pop(0)\n",
    "        if not code:\n",
    "            return True\n",
    "    return False\n"
   ]
  },
  {
   "cell_type": "code",
   "execution_count": 373,
   "id": "e808f60a-1b62-4e1a-931c-e78ee0be21d3",
   "metadata": {},
   "outputs": [
    {
     "data": {
      "text/plain": [
       "True"
      ]
     },
     "execution_count": 373,
     "metadata": {},
     "output_type": "execute_result"
    }
   ],
   "source": [
    "spy_game([1,2,4,0,0,7,5])"
   ]
  },
  {
   "cell_type": "code",
   "execution_count": 374,
   "id": "a6f232b5-134f-411a-82c7-bd0ef79625ea",
   "metadata": {},
   "outputs": [
    {
     "data": {
      "text/plain": [
       "False"
      ]
     },
     "execution_count": 374,
     "metadata": {},
     "output_type": "execute_result"
    }
   ],
   "source": [
    "spy_game([1,7,2,0,4,5,0])"
   ]
  },
  {
   "cell_type": "code",
   "execution_count": 375,
   "id": "5bb65944-f9c7-42a4-a718-95859604bf5b",
   "metadata": {},
   "outputs": [
    {
     "data": {
      "text/plain": [
       "True"
      ]
     },
     "execution_count": 375,
     "metadata": {},
     "output_type": "execute_result"
    }
   ],
   "source": [
    " spy_game([1,0,2,4,0,5,7])"
   ]
  },
  {
   "cell_type": "raw",
   "id": "d525b252-1b03-44c4-b18f-5e42cb6cf53c",
   "metadata": {},
   "source": [
    "COUNT PRIMES: Write a function that returns the number of prime numbers that exist up to and including a given number\n",
    "count_primes(100) --> 25\n",
    "By convention, 0 and 1 are not prime."
   ]
  },
  {
   "cell_type": "code",
   "execution_count": 572,
   "id": "a25f5e9f-d9fa-45fd-b94d-ade2740b4230",
   "metadata": {},
   "outputs": [],
   "source": [
    "def count_primes(num):\n",
    "    nums = [2,3,4,5,6,7,8,9]\n",
    "    val = []\n",
    "    prime = []\n",
    "    for i in range(2,num):\n",
    "        count = 0\n",
    "        for j in nums:\n",
    "            #print(f'{i} % {j} = {i % j}')\n",
    "            if i != j and i % j == 0:\n",
    "                prime = list(set(prime))\n",
    "                prime.append(i)\n",
    "            else :\n",
    "                val.append(i)\n",
    "                val = list(set(val))\n",
    "        \n",
    "        count = count + i\n",
    "        if i in prime:\n",
    "            val.remove(i)\n",
    "            print(f'{i} is Not Prime numbers')\n",
    "        else:\n",
    "            print(f'{i} is A Prime Number')\n",
    "        print('---------------------------')\n",
    "        \n",
    "    return len(val)"
   ]
  },
  {
   "cell_type": "code",
   "execution_count": 573,
   "id": "340d5565-03bf-49d8-a7a1-084e8c600dfa",
   "metadata": {},
   "outputs": [
    {
     "name": "stdout",
     "output_type": "stream",
     "text": [
      "2 is A Prime Number\n",
      "---------------------------\n",
      "3 is A Prime Number\n",
      "---------------------------\n",
      "4 is Not Prime numbers\n",
      "---------------------------\n",
      "5 is A Prime Number\n",
      "---------------------------\n",
      "6 is Not Prime numbers\n",
      "---------------------------\n",
      "7 is A Prime Number\n",
      "---------------------------\n",
      "8 is Not Prime numbers\n",
      "---------------------------\n",
      "9 is Not Prime numbers\n",
      "---------------------------\n"
     ]
    },
    {
     "data": {
      "text/plain": [
       "4"
      ]
     },
     "execution_count": 573,
     "metadata": {},
     "output_type": "execute_result"
    }
   ],
   "source": [
    "count_primes(10)"
   ]
  },
  {
   "cell_type": "raw",
   "id": "40826af3-8baf-47b9-bca5-0ddeb7fc643d",
   "metadata": {},
   "source": [
    "Just for fun:\n",
    "PRINT BIG: Write a function that takes in a single letter, and returns a 5x5 representation of that letter\n",
    "print_big('a')\n",
    "\n",
    "out:   *  \n",
    "      * *\n",
    "     *****\n",
    "     *   *\n",
    "     *   *\n",
    "HINT: Consider making a dictionary of possible patterns, and mapping the alphabet to specific 5-line combinations of patterns.\n",
    "For purposes of this exercise, it's ok if your dictionary stops at \"E\"."
   ]
  },
  {
   "cell_type": "code",
   "execution_count": 574,
   "id": "e94e9d87-f681-422e-83a2-009e29c0c6e7",
   "metadata": {},
   "outputs": [],
   "source": [
    "def print_big(letter):\n",
    "    patterns = {\n",
    "        'A': ['  *  ',\n",
    "              ' * * ',\n",
    "              '*****',\n",
    "              '*   *',\n",
    "              '*   *'],\n",
    "        'B': ['**** ',\n",
    "              '*   *',\n",
    "              '**** ',\n",
    "              '*   *',\n",
    "              '**** '],\n",
    "        'C': [' ****',\n",
    "              '*    ',\n",
    "              '*    ',\n",
    "              '*    ',\n",
    "              ' ****'],\n",
    "        'D': ['**** ',\n",
    "              '*   *',\n",
    "              '*   *',\n",
    "              '*   *',\n",
    "              '**** '],\n",
    "        'E': ['*****',\n",
    "              '*    ',\n",
    "              '***  ',\n",
    "              '*    ',\n",
    "              '*****']\n",
    "    }\n",
    "\n",
    "    letter = letter.upper()\n",
    "    if letter in patterns:\n",
    "        for line in patterns[letter]:\n",
    "            print(line)\n",
    "    else:\n",
    "        print(\"Letter not supported.\")\n",
    "\n"
   ]
  },
  {
   "cell_type": "code",
   "execution_count": 575,
   "id": "3fe81b7b-de3a-478b-bc5c-6de4d7982d0c",
   "metadata": {},
   "outputs": [
    {
     "name": "stdout",
     "output_type": "stream",
     "text": [
      "  *  \n",
      " * * \n",
      "*****\n",
      "*   *\n",
      "*   *\n"
     ]
    }
   ],
   "source": [
    "print_big('a')"
   ]
  },
  {
   "cell_type": "code",
   "execution_count": 576,
   "id": "8cf53b1b-742f-4747-9f0e-6c20a1e51659",
   "metadata": {},
   "outputs": [
    {
     "name": "stdout",
     "output_type": "stream",
     "text": [
      "**** \n",
      "*   *\n",
      "**** \n",
      "*   *\n",
      "**** \n"
     ]
    }
   ],
   "source": [
    "print_big('b')"
   ]
  },
  {
   "cell_type": "code",
   "execution_count": null,
   "id": "c07dcd51-932a-467a-853e-922348e60550",
   "metadata": {},
   "outputs": [],
   "source": []
  }
 ],
 "metadata": {
  "kernelspec": {
   "display_name": "Python 3 (ipykernel)",
   "language": "python",
   "name": "python3"
  },
  "language_info": {
   "codemirror_mode": {
    "name": "ipython",
    "version": 3
   },
   "file_extension": ".py",
   "mimetype": "text/x-python",
   "name": "python",
   "nbconvert_exporter": "python",
   "pygments_lexer": "ipython3",
   "version": "3.12.7"
  }
 },
 "nbformat": 4,
 "nbformat_minor": 5
}
