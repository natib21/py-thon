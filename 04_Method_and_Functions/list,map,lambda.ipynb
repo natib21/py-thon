{
 "cells": [
  {
   "cell_type": "code",
   "execution_count": 1,
   "id": "595cca1d-9846-499d-b3c7-74ea485a8820",
   "metadata": {},
   "outputs": [],
   "source": [
    "def squre(num):\n",
    "    return num**2"
   ]
  },
  {
   "cell_type": "code",
   "execution_count": 2,
   "id": "70b2ecb6-da6f-4933-ac5b-33958b1fde8c",
   "metadata": {},
   "outputs": [],
   "source": [
    "my_nums = [1,2,3,4]"
   ]
  },
  {
   "cell_type": "code",
   "execution_count": 4,
   "id": "00cf0aa6-c30c-4acf-b45f-5cdc48222ccd",
   "metadata": {},
   "outputs": [
    {
     "data": {
      "text/plain": [
       "<map at 0x20af303a710>"
      ]
     },
     "execution_count": 4,
     "metadata": {},
     "output_type": "execute_result"
    }
   ],
   "source": [
    "map(squre,my_nums)"
   ]
  },
  {
   "cell_type": "code",
   "execution_count": 6,
   "id": "51728cdb-4b07-477a-bbfb-69f9143ac1df",
   "metadata": {},
   "outputs": [
    {
     "name": "stdout",
     "output_type": "stream",
     "text": [
      "1\n",
      "4\n",
      "9\n",
      "16\n"
     ]
    }
   ],
   "source": [
    "for num in map(squre,my_nums):\n",
    "    print(num)"
   ]
  },
  {
   "cell_type": "code",
   "execution_count": 10,
   "id": "1f5f456d-d3c9-4e00-b4ac-98c0caf35f09",
   "metadata": {},
   "outputs": [
    {
     "data": {
      "text/plain": [
       "[1, 4, 9, 16]"
      ]
     },
     "execution_count": 10,
     "metadata": {},
     "output_type": "execute_result"
    }
   ],
   "source": [
    "list(map(squre,my_nums))"
   ]
  },
  {
   "cell_type": "code",
   "execution_count": 15,
   "id": "07b3d987-3d9a-4fee-8a1a-90f6f6b164e9",
   "metadata": {},
   "outputs": [],
   "source": [
    "def splicer(mystring):\n",
    "    if len(mystring) % 2 == 0:\n",
    "        return 'EVEN'\n",
    "    else:\n",
    "        return mystring[0]"
   ]
  },
  {
   "cell_type": "code",
   "execution_count": 16,
   "id": "f7d97694-b99b-46ba-997e-5117194f2120",
   "metadata": {},
   "outputs": [
    {
     "data": {
      "text/plain": [
       "'Hello'"
      ]
     },
     "execution_count": 16,
     "metadata": {},
     "output_type": "execute_result"
    }
   ],
   "source": [
    "result = splicer(['Hello','Even','car'])\n",
    "result"
   ]
  },
  {
   "cell_type": "code",
   "execution_count": 17,
   "id": "ccec3a0e-23bb-4e47-b212-98a3965fe870",
   "metadata": {},
   "outputs": [
    {
     "data": {
      "text/plain": [
       "['H', 'EVEN', 'c']"
      ]
     },
     "execution_count": 17,
     "metadata": {},
     "output_type": "execute_result"
    }
   ],
   "source": [
    "list(map(splicer,['Hello','Even','car']))"
   ]
  },
  {
   "cell_type": "code",
   "execution_count": 18,
   "id": "37dfc101-4d8a-4451-af66-bce10dbcf661",
   "metadata": {},
   "outputs": [],
   "source": [
    "def check_even(num):\n",
    "    return num % 2 == 0"
   ]
  },
  {
   "cell_type": "code",
   "execution_count": 19,
   "id": "b35c1fed-091d-4196-bbc0-0875f9153790",
   "metadata": {},
   "outputs": [],
   "source": [
    "mynum =[1,2,3,4,5,6,7,8,9,10]"
   ]
  },
  {
   "cell_type": "markdown",
   "id": "b63530fb-d303-4444-9890-5e160cebf800",
   "metadata": {},
   "source": [
    "list(filter(check_even,mynum))"
   ]
  },
  {
   "cell_type": "code",
   "execution_count": 22,
   "id": "04b91285-ed1b-47eb-8d6e-7c5cfc896299",
   "metadata": {},
   "outputs": [],
   "source": [
    "sqr = lambda num:num ** 2"
   ]
  },
  {
   "cell_type": "code",
   "execution_count": 23,
   "id": "07be71df-54dd-4e8d-810d-33a1c945db06",
   "metadata": {},
   "outputs": [
    {
     "data": {
      "text/plain": [
       "4"
      ]
     },
     "execution_count": 23,
     "metadata": {},
     "output_type": "execute_result"
    }
   ],
   "source": [
    "sqr(2)"
   ]
  },
  {
   "cell_type": "code",
   "execution_count": 26,
   "id": "9f781884-2ad3-474d-9afb-e177e98fc220",
   "metadata": {},
   "outputs": [
    {
     "data": {
      "text/plain": [
       "[1, 4, 9, 16]"
      ]
     },
     "execution_count": 26,
     "metadata": {},
     "output_type": "execute_result"
    }
   ],
   "source": [
    "list(map(lambda num: num ** 2, my_nums))"
   ]
  },
  {
   "cell_type": "code",
   "execution_count": 29,
   "id": "01515b99-6f28-4fc1-ac35-3f2edbbf563b",
   "metadata": {},
   "outputs": [
    {
     "data": {
      "text/plain": [
       "[2, 4]"
      ]
     },
     "execution_count": 29,
     "metadata": {},
     "output_type": "execute_result"
    }
   ],
   "source": [
    "list(filter(lambda num : num % 2 == 0,my_nums))"
   ]
  },
  {
   "cell_type": "code",
   "execution_count": null,
   "id": "d9261e11-3341-4bc7-b18f-1032878cbd37",
   "metadata": {},
   "outputs": [],
   "source": []
  }
 ],
 "metadata": {
  "kernelspec": {
   "display_name": "Python 3 (ipykernel)",
   "language": "python",
   "name": "python3"
  },
  "language_info": {
   "codemirror_mode": {
    "name": "ipython",
    "version": 3
   },
   "file_extension": ".py",
   "mimetype": "text/x-python",
   "name": "python",
   "nbconvert_exporter": "python",
   "pygments_lexer": "ipython3",
   "version": "3.12.7"
  }
 },
 "nbformat": 4,
 "nbformat_minor": 5
}
