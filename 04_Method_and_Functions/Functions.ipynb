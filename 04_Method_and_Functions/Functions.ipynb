{
 "cells": [
  {
   "cell_type": "code",
   "execution_count": 1,
   "id": "92a3e538-3d75-4ea8-87a3-838ff35cb6d1",
   "metadata": {},
   "outputs": [],
   "source": [
    "def name(name):\n",
    "    print(f'my name is {name}')"
   ]
  },
  {
   "cell_type": "code",
   "execution_count": 2,
   "id": "7968b35a-9a24-4bee-b660-6a890588ecdb",
   "metadata": {},
   "outputs": [
    {
     "name": "stdout",
     "output_type": "stream",
     "text": [
      "my name is Nathnael\n"
     ]
    }
   ],
   "source": [
    "name('Nathnael')"
   ]
  },
  {
   "cell_type": "code",
   "execution_count": 3,
   "id": "9b7e1aff-45e6-4748-87c5-d5cdc128bb52",
   "metadata": {},
   "outputs": [],
   "source": [
    "def add(num1,num2):\n",
    "    return num1+num2"
   ]
  },
  {
   "cell_type": "code",
   "execution_count": 4,
   "id": "21bc6f26-c4ee-42b2-8fe0-0f1af459b3d1",
   "metadata": {},
   "outputs": [
    {
     "data": {
      "text/plain": [
       "30"
      ]
     },
     "execution_count": 4,
     "metadata": {},
     "output_type": "execute_result"
    }
   ],
   "source": [
    "add(10,20)"
   ]
  },
  {
   "cell_type": "code",
   "execution_count": 7,
   "id": "28cf8fe8-50d6-45ec-b689-debeabca36f9",
   "metadata": {},
   "outputs": [
    {
     "name": "stdout",
     "output_type": "stream",
     "text": [
      "val = 70\n"
     ]
    }
   ],
   "source": [
    "result = add(40,30)\n",
    "print(f'val = {result}')"
   ]
  },
  {
   "cell_type": "code",
   "execution_count": 10,
   "id": "f448adcd-d6d7-452b-aa63-be3a1e33fcfe",
   "metadata": {},
   "outputs": [],
   "source": [
    "def name(name ='Nati'):\n",
    "    print(name)"
   ]
  },
  {
   "cell_type": "code",
   "execution_count": 11,
   "id": "6dad48da-48b4-4f7b-b923-213fae337eb5",
   "metadata": {},
   "outputs": [
    {
     "name": "stdout",
     "output_type": "stream",
     "text": [
      "Nati\n"
     ]
    }
   ],
   "source": [
    "name()"
   ]
  },
  {
   "cell_type": "code",
   "execution_count": null,
   "id": "940d765d-fbf5-48ae-9484-25cae59d2cec",
   "metadata": {},
   "outputs": [],
   "source": []
  }
 ],
 "metadata": {
  "kernelspec": {
   "display_name": "Python 3 (ipykernel)",
   "language": "python",
   "name": "python3"
  },
  "language_info": {
   "codemirror_mode": {
    "name": "ipython",
    "version": 3
   },
   "file_extension": ".py",
   "mimetype": "text/x-python",
   "name": "python",
   "nbconvert_exporter": "python",
   "pygments_lexer": "ipython3",
   "version": "3.12.7"
  }
 },
 "nbformat": 4,
 "nbformat_minor": 5
}
