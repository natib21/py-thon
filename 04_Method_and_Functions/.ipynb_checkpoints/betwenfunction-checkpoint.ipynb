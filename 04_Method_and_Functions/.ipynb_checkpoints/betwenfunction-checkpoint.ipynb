{
 "cells": [
  {
   "cell_type": "code",
   "execution_count": 5,
   "id": "a3d93483-bc14-46af-a1b7-3cbf8e92da37",
   "metadata": {},
   "outputs": [],
   "source": [
    "mylist=[1,2,3,5,6,7,10,8]"
   ]
  },
  {
   "cell_type": "code",
   "execution_count": 6,
   "id": "6a4c89d9-a898-4a31-924e-170a0d3b1966",
   "metadata": {},
   "outputs": [
    {
     "data": {
      "text/plain": [
       "[1, 2, 3, 5, 6, 7, 10, 8]"
      ]
     },
     "execution_count": 6,
     "metadata": {},
     "output_type": "execute_result"
    }
   ],
   "source": [
    "mylist"
   ]
  },
  {
   "cell_type": "code",
   "execution_count": 10,
   "id": "bce9031e-e97b-4a0d-9511-b3a34cfa30cc",
   "metadata": {},
   "outputs": [],
   "source": [
    "from random import shuffle\n"
   ]
  },
  {
   "cell_type": "code",
   "execution_count": 13,
   "id": "0794fa6f-4703-4095-86de-2ca34a440f50",
   "metadata": {},
   "outputs": [],
   "source": [
    "shuffle(mylist)"
   ]
  },
  {
   "cell_type": "code",
   "execution_count": 14,
   "id": "717fcff3-168d-4b0d-844b-a8ab17a61ce3",
   "metadata": {},
   "outputs": [
    {
     "data": {
      "text/plain": [
       "[10, 2, 1, 8, 3, 5, 6, 7]"
      ]
     },
     "execution_count": 14,
     "metadata": {},
     "output_type": "execute_result"
    }
   ],
   "source": [
    "mylist"
   ]
  },
  {
   "cell_type": "code",
   "execution_count": 22,
   "id": "317536c3-d5e2-4d87-9bc5-1aff6e398a7e",
   "metadata": {},
   "outputs": [],
   "source": [
    "def suffle_fun(num):\n",
    "    shuffle(num)\n",
    "    return num"
   ]
  },
  {
   "cell_type": "code",
   "execution_count": 23,
   "id": "7f75622a-7c22-4d4a-bd21-cbd9b4693e4b",
   "metadata": {},
   "outputs": [],
   "source": [
    "result = suffle_fun(mylist)"
   ]
  },
  {
   "cell_type": "code",
   "execution_count": 24,
   "id": "98d252f1-5061-45ba-8e98-e537a3166da2",
   "metadata": {},
   "outputs": [
    {
     "data": {
      "text/plain": [
       "[5, 2, 6, 8, 7, 10, 1, 3]"
      ]
     },
     "execution_count": 24,
     "metadata": {},
     "output_type": "execute_result"
    }
   ],
   "source": [
    "result"
   ]
  },
  {
   "cell_type": "code",
   "execution_count": 25,
   "id": "505a8784-c3d7-4298-8fdf-5a283ca997dd",
   "metadata": {},
   "outputs": [],
   "source": [
    "def player_guess():\n",
    "    num = ''\n",
    "    while num not in ['0','1','2']:\n",
    "        val = input(\"Pls Input number between 0,1 and 2\")\n",
    "        \n",
    "    return int(num) "
   ]
  },
  {
   "cell_type": "code",
   "execution_count": 26,
   "id": "61b9e4bc-faba-436b-adf4-bd0d5244adc7",
   "metadata": {},
   "outputs": [],
   "source": [
    "def result(shuffle,player_g):\n",
    "    if shuffle[player_g] == '0':\n",
    "        print('CORRECT')\n",
    "    else:\n",
    "        print(\"Wrong Answer\")\n",
    "        print(shffle)"
   ]
  },
  {
   "cell_type": "code",
   "execution_count": null,
   "id": "daca76a5-bf8b-4e9a-869a-81c9f1f52a1a",
   "metadata": {},
   "outputs": [
    {
     "name": "stdin",
     "output_type": "stream",
     "text": [
      "Pls Input number between 0,1 and 2 2\n",
      "Pls Input number between 0,1 and 2 1\n",
      "Pls Input number between 0,1 and 2 4\n",
      "Pls Input number between 0,1 and 2 1\n",
      "Pls Input number between 0,1 and 2 1\n",
      "Pls Input number between 0,1 and 2 3\n",
      "Pls Input number between 0,1 and 2 0\n",
      "Pls Input number between 0,1 and 2 7\n",
      "Pls Input number between 0,1 and 2 2\n"
     ]
    }
   ],
   "source": [
    "mylist = ['','0','']\n",
    "shuf = suffle_fun(mylist)\n",
    "guessNum = player_guess()"
   ]
  },
  {
   "cell_type": "code",
   "execution_count": null,
   "id": "2fcf7d39-ab37-44c0-968f-e349fa4269d3",
   "metadata": {},
   "outputs": [],
   "source": []
  }
 ],
 "metadata": {
  "kernelspec": {
   "display_name": "Python 3 (ipykernel)",
   "language": "python",
   "name": "python3"
  },
  "language_info": {
   "codemirror_mode": {
    "name": "ipython",
    "version": 3
   },
   "file_extension": ".py",
   "mimetype": "text/x-python",
   "name": "python",
   "nbconvert_exporter": "python",
   "pygments_lexer": "ipython3",
   "version": "3.12.7"
  }
 },
 "nbformat": 4,
 "nbformat_minor": 5
}
