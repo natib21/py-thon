{
 "cells": [
  {
   "cell_type": "code",
   "execution_count": 5,
   "id": "d07019d8-9bed-492b-847e-2cb1f2ff7e13",
   "metadata": {},
   "outputs": [],
   "source": [
    "x = 25\n",
    "\n",
    "def printer():\n",
    "    x = 50\n",
    "    return x"
   ]
  },
  {
   "cell_type": "code",
   "execution_count": 7,
   "id": "d57864ed-9be3-42f6-ac60-fc386cc37527",
   "metadata": {},
   "outputs": [
    {
     "data": {
      "text/plain": [
       "50"
      ]
     },
     "execution_count": 7,
     "metadata": {},
     "output_type": "execute_result"
    }
   ],
   "source": [
    "printer()"
   ]
  },
  {
   "cell_type": "code",
   "execution_count": 10,
   "id": "ccba3ea4-df78-4d5f-9f20-904bda6d5700",
   "metadata": {},
   "outputs": [
    {
     "name": "stdout",
     "output_type": "stream",
     "text": [
      "Hello this is enclosing\n"
     ]
    }
   ],
   "source": [
    "x= 'This is Global'\n",
    "\n",
    "def scope():\n",
    "    x = 'this is enclosing'\n",
    "    def loc():\n",
    "       # x = 'This is Local'\n",
    "        print(f'Hello {x}')\n",
    "\n",
    "    loc()\n",
    "\n",
    "scope()\n"
   ]
  },
  {
   "cell_type": "code",
   "execution_count": null,
   "id": "ae4d7085-d9e7-43e1-b0cf-0a039cdcc8c7",
   "metadata": {},
   "outputs": [],
   "source": []
  }
 ],
 "metadata": {
  "kernelspec": {
   "display_name": "Python 3 (ipykernel)",
   "language": "python",
   "name": "python3"
  },
  "language_info": {
   "codemirror_mode": {
    "name": "ipython",
    "version": 3
   },
   "file_extension": ".py",
   "mimetype": "text/x-python",
   "name": "python",
   "nbconvert_exporter": "python",
   "pygments_lexer": "ipython3",
   "version": "3.12.7"
  }
 },
 "nbformat": 4,
 "nbformat_minor": 5
}
