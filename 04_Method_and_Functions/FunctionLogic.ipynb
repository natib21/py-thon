{
 "cells": [
  {
   "cell_type": "code",
   "execution_count": 1,
   "id": "165dbc40-14ae-49ab-8931-cf037dd25d37",
   "metadata": {},
   "outputs": [],
   "source": [
    "def even_checker(num):\n",
    "    return num % 2 == 0"
   ]
  },
  {
   "cell_type": "code",
   "execution_count": 2,
   "id": "d6421a88-5802-458f-81c7-65a417029257",
   "metadata": {},
   "outputs": [
    {
     "data": {
      "text/plain": [
       "True"
      ]
     },
     "execution_count": 2,
     "metadata": {},
     "output_type": "execute_result"
    }
   ],
   "source": [
    "even_checker(100)"
   ]
  },
  {
   "cell_type": "code",
   "execution_count": 8,
   "id": "65f53af6-b91e-40b2-81e9-2332217f5446",
   "metadata": {},
   "outputs": [],
   "source": [
    "def check_even_list(num):\n",
    "    even_numbers = []\n",
    "    for n in num:\n",
    "        if n % 2 == 0:\n",
    "            even_numbers.append(n)\n",
    "        else:\n",
    "            pass\n",
    "    return even_numbers"
   ]
  },
  {
   "cell_type": "code",
   "execution_count": 9,
   "id": "3bc582c9-70d6-4df1-8aea-cabd646e6ba4",
   "metadata": {},
   "outputs": [
    {
     "data": {
      "text/plain": [
       "[2, 4, 8, 100]"
      ]
     },
     "execution_count": 9,
     "metadata": {},
     "output_type": "execute_result"
    }
   ],
   "source": [
    "check_even_list([1,2,4,5,67,8,100])"
   ]
  },
  {
   "cell_type": "code",
   "execution_count": null,
   "id": "d75e923b-139d-47a4-ade7-7bcf8d855c4f",
   "metadata": {},
   "outputs": [],
   "source": []
  }
 ],
 "metadata": {
  "kernelspec": {
   "display_name": "Python 3 (ipykernel)",
   "language": "python",
   "name": "python3"
  },
  "language_info": {
   "codemirror_mode": {
    "name": "ipython",
    "version": 3
   },
   "file_extension": ".py",
   "mimetype": "text/x-python",
   "name": "python",
   "nbconvert_exporter": "python",
   "pygments_lexer": "ipython3",
   "version": "3.12.7"
  }
 },
 "nbformat": 4,
 "nbformat_minor": 5
}
