{
 "cells": [
  {
   "cell_type": "raw",
   "id": "d16a2157-c7fd-4a07-9105-8909c3578a6d",
   "metadata": {},
   "source": [
    "Write a function that computes the volume of a sphere given its radius.\n",
    "\n",
    "The volume of a sphere is given as\n",
    " \n"
   ]
  },
  {
   "cell_type": "code",
   "execution_count": 1,
   "id": "8c117c4a-a3c3-4642-a4ab-8ec23884ffab",
   "metadata": {},
   "outputs": [],
   "source": [
    "def vol(rad):\n",
    "    c = 4/3\n",
    "    pi = 3.14\n",
    "    val = c*pi*rad**3\n",
    "    return val"
   ]
  },
  {
   "cell_type": "code",
   "execution_count": 2,
   "id": "e9969470-8c58-4c57-bd0b-ff4163db9376",
   "metadata": {},
   "outputs": [
    {
     "data": {
      "text/plain": [
       "33.49333333333333"
      ]
     },
     "execution_count": 2,
     "metadata": {},
     "output_type": "execute_result"
    }
   ],
   "source": [
    "vol(2)"
   ]
  },
  {
   "cell_type": "raw",
   "id": "0d69c394-2379-4f83-b8b5-030262840716",
   "metadata": {},
   "source": [
    "Write a function that checks whether a number is in a given range (inclusive of high and low)"
   ]
  },
  {
   "cell_type": "code",
   "execution_count": 5,
   "id": "50c5fc1a-0ebb-4f7e-98dd-10f938adb638",
   "metadata": {},
   "outputs": [],
   "source": [
    "def ran_check(num,low,high):\n",
    "    return num in range(low,high)"
   ]
  },
  {
   "cell_type": "code",
   "execution_count": 7,
   "id": "d8b2c7cf-8972-439a-b937-7f1c68ee5bee",
   "metadata": {},
   "outputs": [
    {
     "data": {
      "text/plain": [
       "False"
      ]
     },
     "execution_count": 7,
     "metadata": {},
     "output_type": "execute_result"
    }
   ],
   "source": [
    "ran_check(15,2,7)"
   ]
  },
  {
   "cell_type": "raw",
   "id": "64c9a2b3-9121-4f27-bb85-68d0d9b76924",
   "metadata": {},
   "source": [
    "Write a Python function that accepts a string and calculates the number of upper case letters and lower case letters.\n",
    "\n",
    "Sample String : 'Hello Mr. Rogers, how are you this fine Tuesday?'\n",
    "Expected Output : \n",
    "No. of Upper case characters : 4\n",
    "No. of Lower case Characters : 33\n",
    "HINT: Two string methods that might prove useful: .isupper() and .islower()\n",
    "\n",
    "If you feel ambitious, explore the Collections module to solve this problem!"
   ]
  },
  {
   "cell_type": "code",
   "execution_count": 19,
   "id": "bb6340ea-ea3a-452d-9177-cadb1d854dec",
   "metadata": {},
   "outputs": [],
   "source": [
    "def up_low(s):\n",
    "    capital = 0\n",
    "    lower = 0\n",
    "    for n in range(len(s)):\n",
    "        if s[n].isupper():\n",
    "            capital = capital + 1\n",
    "        elif s[n].islower():\n",
    "            lower = lower + 1\n",
    "    print(f'No. of Upper case characters : {capital}')\n",
    "    print(f'No. of Lower case characters : {lower}')\n",
    "    "
   ]
  },
  {
   "cell_type": "code",
   "execution_count": 20,
   "id": "cf770de2-f6eb-49ba-9777-3893aea295e5",
   "metadata": {},
   "outputs": [
    {
     "name": "stdout",
     "output_type": "stream",
     "text": [
      "No. of Upper case characters : 4\n",
      "No. of Lower case characters : 33\n"
     ]
    }
   ],
   "source": [
    "s = 'Hello Mr. Rogers, how are you this fine Tuesday?'\n",
    "up_low(s)"
   ]
  },
  {
   "cell_type": "raw",
   "id": "03326714-8e93-4959-8632-9834d357e767",
   "metadata": {},
   "source": [
    "\n",
    "Write a Python function that takes a list and returns a new list with unique elements of the first list.\n",
    "\n",
    "Sample List : [1,1,1,1,2,2,3,3,3,3,4,5]\n",
    "Unique List : [1, 2, 3, 4, "
   ]
  },
  {
   "cell_type": "code",
   "execution_count": 21,
   "id": "2381eb2f-7646-4472-b09a-87c909c07867",
   "metadata": {},
   "outputs": [],
   "source": [
    "def unique_list(lst):\n",
    "    return list(set(lst))"
   ]
  },
  {
   "cell_type": "code",
   "execution_count": 22,
   "id": "ef6a24a4-bb99-4d8b-a8f5-5093fdaa0995",
   "metadata": {},
   "outputs": [
    {
     "data": {
      "text/plain": [
       "[1, 2, 3, 4, 5]"
      ]
     },
     "execution_count": 22,
     "metadata": {},
     "output_type": "execute_result"
    }
   ],
   "source": [
    "unique_list([1,1,1,1,2,2,3,3,3,3,4,5])"
   ]
  },
  {
   "cell_type": "raw",
   "id": "c7ed10ee-2ae4-4df6-944c-6e06a1f61e1d",
   "metadata": {},
   "source": [
    "\n",
    "Write a Python function to multiply all the numbers in a list.\n",
    "\n",
    "Sample List : [1, 2, 3, -4]\n",
    "Expected Output : -24"
   ]
  },
  {
   "cell_type": "code",
   "execution_count": 55,
   "id": "94e4f7bb-2bbc-438c-bc2a-cbb30de93a07",
   "metadata": {},
   "outputs": [],
   "source": [
    "def multiply(numbers): \n",
    "    mul = 1\n",
    "    for n in numbers:\n",
    "        mul *= n  \n",
    "    return mul"
   ]
  },
  {
   "cell_type": "code",
   "execution_count": 56,
   "id": "9266127d-d619-4ee9-89d8-e3bfa33e3f0d",
   "metadata": {},
   "outputs": [
    {
     "data": {
      "text/plain": [
       "-24"
      ]
     },
     "execution_count": 56,
     "metadata": {},
     "output_type": "execute_result"
    }
   ],
   "source": [
    "multiply([1,2,3,-4])"
   ]
  },
  {
   "cell_type": "raw",
   "id": "404eca27-8086-4541-ab81-19c17c15ee25",
   "metadata": {},
   "source": [
    "Write a Python function that checks whether a passed in string is palindrome or not.\n",
    "\n",
    "Note: A palindrome is word, phrase, or sequence that reads the same backward as forward, e.g., madam or nurses run."
   ]
  },
  {
   "cell_type": "code",
   "execution_count": 103,
   "id": "91b81511-ded7-4103-a6f9-4568c2991f39",
   "metadata": {},
   "outputs": [],
   "source": [
    "def is_palindrome(s):\n",
    "    cleaned = ''.join(char.lower() for char in s if char.isalnum())\n",
    "    return cleaned == cleaned[::-1]"
   ]
  },
  {
   "cell_type": "code",
   "execution_count": 104,
   "id": "1a10ea27-a218-452b-8632-fcf371393673",
   "metadata": {},
   "outputs": [
    {
     "data": {
      "text/plain": [
       "True"
      ]
     },
     "execution_count": 104,
     "metadata": {},
     "output_type": "execute_result"
    }
   ],
   "source": [
    "is_palindrome('helleh')"
   ]
  },
  {
   "cell_type": "raw",
   "id": "42685f92-9024-47a1-9db0-6c092e9ece25",
   "metadata": {},
   "source": [
    "\n",
    "Hard:\n",
    "Write a Python function to check whether a string is pangram or not.\n",
    "\n",
    "Note : Pangrams are words or sentences containing every letter of the alphabet at least once.\n",
    "For example : \"The quick brown fox jumps over the lazy dog\"\n",
    "Hint: Look at the string module"
   ]
  },
  {
   "cell_type": "code",
   "execution_count": 114,
   "id": "4f346a8d-a9c7-444d-80e7-5a534f64109a",
   "metadata": {},
   "outputs": [],
   "source": [
    "import string\n",
    "\n",
    "\n",
    "def is_pangram(s):\n",
    "    \n",
    "    alphabet = set(string.ascii_lowercase)\n",
    "    letters_in_s = set(char.lower() for char in s if char.isalpha())\n",
    "    return alphabet.issubset(letters_in_s)\n",
    "            "
   ]
  },
  {
   "cell_type": "code",
   "execution_count": 116,
   "id": "60a8aaa4-e52b-4168-9456-67edd99eceec",
   "metadata": {},
   "outputs": [
    {
     "data": {
      "text/plain": [
       "True"
      ]
     },
     "execution_count": 116,
     "metadata": {},
     "output_type": "execute_result"
    }
   ],
   "source": [
    "is_pangram(\"The quick brown fox jumps over the lazy dog\")"
   ]
  },
  {
   "cell_type": "code",
   "execution_count": null,
   "id": "0ba324d4-706e-45db-9e46-d87d4ef19dfe",
   "metadata": {},
   "outputs": [],
   "source": []
  }
 ],
 "metadata": {
  "kernelspec": {
   "display_name": "Python 3 (ipykernel)",
   "language": "python",
   "name": "python3"
  },
  "language_info": {
   "codemirror_mode": {
    "name": "ipython",
    "version": 3
   },
   "file_extension": ".py",
   "mimetype": "text/x-python",
   "name": "python",
   "nbconvert_exporter": "python",
   "pygments_lexer": "ipython3",
   "version": "3.12.7"
  }
 },
 "nbformat": 4,
 "nbformat_minor": 5
}
