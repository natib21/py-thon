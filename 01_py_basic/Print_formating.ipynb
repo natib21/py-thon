{
 "cells": [
  {
   "cell_type": "code",
   "execution_count": 1,
   "id": "a018bed8-7fa5-4b79-bc79-e6e0b923071c",
   "metadata": {},
   "outputs": [
    {
     "name": "stdout",
     "output_type": "stream",
     "text": [
      "This is Print Inserted to format\n"
     ]
    }
   ],
   "source": [
    "print(\"This is Print {} to format\".format(\"Inserted\"))"
   ]
  },
  {
   "cell_type": "code",
   "execution_count": 4,
   "id": "bae5d5f8-f938-4a27-ba02-6b4f068b25ec",
   "metadata": {},
   "outputs": [
    {
     "name": "stdout",
     "output_type": "stream",
     "text": [
      "The Big Big Big\n"
     ]
    }
   ],
   "source": [
    "print(\"The {0} {0} {0}\".format(\"Big\",\"Brown\",\"Pig\"))"
   ]
  },
  {
   "cell_type": "code",
   "execution_count": 8,
   "id": "3bd9dba3-a721-4a62-9482-07f41e77fd02",
   "metadata": {},
   "outputs": [
    {
     "name": "stdout",
     "output_type": "stream",
     "text": [
      "The Pig Brown Big\n"
     ]
    }
   ],
   "source": [
    "print(\"The {p} {b} {B}\".format(B=\"Big\",b=\"Brown\",p=\"Pig\"))"
   ]
  },
  {
   "cell_type": "code",
   "execution_count": 9,
   "id": "e61791a2-b3db-4255-b3a9-a7db62509d5d",
   "metadata": {},
   "outputs": [
    {
     "name": "stdout",
     "output_type": "stream",
     "text": [
      "0.1287001287001287\n"
     ]
    }
   ],
   "source": [
    "result = 100/777\n",
    "print(result)"
   ]
  },
  {
   "cell_type": "code",
   "execution_count": 12,
   "id": "f743a842-2aee-49a9-93e5-0994785d4036",
   "metadata": {},
   "outputs": [
    {
     "name": "stdout",
     "output_type": "stream",
     "text": [
      "The Result was 0.129\n"
     ]
    }
   ],
   "source": [
    "print(\"The Result was {r:1.3f}\".format(r=result))"
   ]
  },
  {
   "cell_type": "code",
   "execution_count": null,
   "id": "399283c4-4044-4b39-a142-396c970ed158",
   "metadata": {},
   "outputs": [],
   "source": []
  }
 ],
 "metadata": {
  "kernelspec": {
   "display_name": "Python 3 (ipykernel)",
   "language": "python",
   "name": "python3"
  },
  "language_info": {
   "codemirror_mode": {
    "name": "ipython",
    "version": 3
   },
   "file_extension": ".py",
   "mimetype": "text/x-python",
   "name": "python",
   "nbconvert_exporter": "python",
   "pygments_lexer": "ipython3",
   "version": "3.12.7"
  }
 },
 "nbformat": 4,
 "nbformat_minor": 5
}
