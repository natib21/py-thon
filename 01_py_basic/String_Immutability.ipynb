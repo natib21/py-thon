{
 "cells": [
  {
   "cell_type": "code",
   "execution_count": 1,
   "id": "ff2ea840-f7ca-420e-8200-2f00513f0866",
   "metadata": {},
   "outputs": [
    {
     "name": "stdout",
     "output_type": "stream",
     "text": [
      "Tam\n"
     ]
    }
   ],
   "source": [
    "name = 'Tam'\n",
    "print(name)"
   ]
  },
  {
   "cell_type": "code",
   "execution_count": 2,
   "id": "5d924ab0-8cd2-4427-919f-1f5873e625bd",
   "metadata": {},
   "outputs": [
    {
     "data": {
      "text/plain": [
       "'am'"
      ]
     },
     "execution_count": 2,
     "metadata": {},
     "output_type": "execute_result"
    }
   ],
   "source": [
    "last_letter = name[1:]\n",
    "last_letter"
   ]
  },
  {
   "cell_type": "code",
   "execution_count": 3,
   "id": "62bf302e-c2d1-44b4-8e10-ebfef3d0bfe1",
   "metadata": {},
   "outputs": [
    {
     "data": {
      "text/plain": [
       "'Sam'"
      ]
     },
     "execution_count": 3,
     "metadata": {},
     "output_type": "execute_result"
    }
   ],
   "source": [
    "\"S\"+last_letter"
   ]
  },
  {
   "cell_type": "code",
   "execution_count": 4,
   "id": "1417c893-6676-43d3-9fda-feeb73f6b86a",
   "metadata": {},
   "outputs": [],
   "source": [
    "x = \"Hello World\""
   ]
  },
  {
   "cell_type": "code",
   "execution_count": 5,
   "id": "a369d3f7-e9bc-44eb-8fb5-821263edb75e",
   "metadata": {},
   "outputs": [],
   "source": [
    "x = x + \" It is buitifull outside\""
   ]
  },
  {
   "cell_type": "code",
   "execution_count": 6,
   "id": "86c45b90-b4e3-49c2-9388-3a019aba7106",
   "metadata": {},
   "outputs": [
    {
     "name": "stdout",
     "output_type": "stream",
     "text": [
      "Hello World It is buitifull outside\n"
     ]
    }
   ],
   "source": [
    "print(x)"
   ]
  },
  {
   "cell_type": "code",
   "execution_count": 7,
   "id": "a8f696d9-241a-4a16-9db5-398d9d07df9e",
   "metadata": {},
   "outputs": [],
   "source": [
    "letter = \"z\"\n"
   ]
  },
  {
   "cell_type": "code",
   "execution_count": 8,
   "id": "9ac26aa1-1a35-40f5-8ad6-7345cce84038",
   "metadata": {},
   "outputs": [
    {
     "data": {
      "text/plain": [
       "'zzzzzzzzzz'"
      ]
     },
     "execution_count": 8,
     "metadata": {},
     "output_type": "execute_result"
    }
   ],
   "source": [
    "10 * letter"
   ]
  },
  {
   "cell_type": "code",
   "execution_count": 9,
   "id": "4831a22b-8a2d-47ac-be88-683a41755921",
   "metadata": {},
   "outputs": [],
   "source": [
    "x = \"hello world\""
   ]
  },
  {
   "cell_type": "code",
   "execution_count": 10,
   "id": "6e2af901-1c20-4b8d-a32d-d5d00da826f6",
   "metadata": {},
   "outputs": [
    {
     "data": {
      "text/plain": [
       "'HELLO WORLD'"
      ]
     },
     "execution_count": 10,
     "metadata": {},
     "output_type": "execute_result"
    }
   ],
   "source": [
    "x.upper()"
   ]
  },
  {
   "cell_type": "code",
   "execution_count": 11,
   "id": "0ca28e93-8e0d-45e2-8b8f-e86a328314a2",
   "metadata": {},
   "outputs": [
    {
     "data": {
      "text/plain": [
       "'hello world'"
      ]
     },
     "execution_count": 11,
     "metadata": {},
     "output_type": "execute_result"
    }
   ],
   "source": [
    "x.lower()"
   ]
  },
  {
   "cell_type": "code",
   "execution_count": 12,
   "id": "e344c515-9071-4e07-b219-0eb0c21f1041",
   "metadata": {},
   "outputs": [
    {
     "data": {
      "text/plain": [
       "['hello', 'world']"
      ]
     },
     "execution_count": 12,
     "metadata": {},
     "output_type": "execute_result"
    }
   ],
   "source": [
    "x.split()"
   ]
  },
  {
   "cell_type": "code",
   "execution_count": 13,
   "id": "c8a8c137-74ba-42c5-88b9-de6a427eb3e0",
   "metadata": {},
   "outputs": [],
   "source": [
    "x = \"Hi this is String Nati\""
   ]
  },
  {
   "cell_type": "code",
   "execution_count": 14,
   "id": "d468adbc-b22b-49fa-a7fb-c4417400828b",
   "metadata": {},
   "outputs": [
    {
     "data": {
      "text/plain": [
       "['Hi', 'this', 'is', 'String', 'Nati']"
      ]
     },
     "execution_count": 14,
     "metadata": {},
     "output_type": "execute_result"
    }
   ],
   "source": [
    "x.split()"
   ]
  },
  {
   "cell_type": "code",
   "execution_count": null,
   "id": "d369f7b7-8295-4df9-b026-ffcd88e43ed5",
   "metadata": {},
   "outputs": [],
   "source": []
  }
 ],
 "metadata": {
  "kernelspec": {
   "display_name": "Python 3 (ipykernel)",
   "language": "python",
   "name": "python3"
  },
  "language_info": {
   "codemirror_mode": {
    "name": "ipython",
    "version": 3
   },
   "file_extension": ".py",
   "mimetype": "text/x-python",
   "name": "python",
   "nbconvert_exporter": "python",
   "pygments_lexer": "ipython3",
   "version": "3.12.7"
  }
 },
 "nbformat": 4,
 "nbformat_minor": 5
}
