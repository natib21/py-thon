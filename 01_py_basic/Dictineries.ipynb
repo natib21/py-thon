{
 "cells": [
  {
   "cell_type": "code",
   "execution_count": 1,
   "id": "271f8663-9ef0-4c88-9df2-50e0c7f1869c",
   "metadata": {},
   "outputs": [],
   "source": [
    "my_dic = {\"key1\":\"val1\",\"key2\":\"val2\",\"key3\":\"val3\"}"
   ]
  },
  {
   "cell_type": "code",
   "execution_count": 2,
   "id": "065bfe6c-78ec-44a2-a5a4-fbf61d517b7a",
   "metadata": {},
   "outputs": [
    {
     "data": {
      "text/plain": [
       "{'key1': 'val1', 'key2': 'val2', 'key3': 'val3'}"
      ]
     },
     "execution_count": 2,
     "metadata": {},
     "output_type": "execute_result"
    }
   ],
   "source": [
    "my_dic"
   ]
  },
  {
   "cell_type": "code",
   "execution_count": 3,
   "id": "ba7f7db3-bd7e-4943-a26a-b4e969d12be5",
   "metadata": {},
   "outputs": [
    {
     "data": {
      "text/plain": [
       "'val1'"
      ]
     },
     "execution_count": 3,
     "metadata": {},
     "output_type": "execute_result"
    }
   ],
   "source": [
    "my_dic['key1']"
   ]
  },
  {
   "cell_type": "code",
   "execution_count": 4,
   "id": "35336505-5cfb-42e1-9a54-345f33f67943",
   "metadata": {},
   "outputs": [],
   "source": [
    "price_lockup = {\"apple\":99.0,\"banana\":7.5,\"milk\":5.80}"
   ]
  },
  {
   "cell_type": "code",
   "execution_count": 5,
   "id": "db0fdf17-f35e-4026-8b16-7949d48dd13d",
   "metadata": {},
   "outputs": [
    {
     "data": {
      "text/plain": [
       "99.0"
      ]
     },
     "execution_count": 5,
     "metadata": {},
     "output_type": "execute_result"
    }
   ],
   "source": [
    "price_lockup['apple']"
   ]
  },
  {
   "cell_type": "code",
   "execution_count": 6,
   "id": "9d9b61a9-ed47-4a1b-8631-edfddac4fdbb",
   "metadata": {},
   "outputs": [],
   "source": [
    "d={'k1':123,'k2':[1,2,3],'k3':{\"man\":1020,\"woman\":2000}}"
   ]
  },
  {
   "cell_type": "code",
   "execution_count": 8,
   "id": "2a319635-041e-4460-b960-aa282474b7a3",
   "metadata": {},
   "outputs": [
    {
     "data": {
      "text/plain": [
       "123"
      ]
     },
     "execution_count": 8,
     "metadata": {},
     "output_type": "execute_result"
    }
   ],
   "source": [
    "d['k1']"
   ]
  },
  {
   "cell_type": "code",
   "execution_count": 9,
   "id": "db0ecbcd-d8a6-46ce-8430-ac2eef69f4da",
   "metadata": {},
   "outputs": [
    {
     "data": {
      "text/plain": [
       "[1, 2, 3]"
      ]
     },
     "execution_count": 9,
     "metadata": {},
     "output_type": "execute_result"
    }
   ],
   "source": [
    "d['k2']"
   ]
  },
  {
   "cell_type": "code",
   "execution_count": 11,
   "id": "38abcbca-6113-4397-8ac2-7a11c46657f9",
   "metadata": {},
   "outputs": [
    {
     "data": {
      "text/plain": [
       "1020"
      ]
     },
     "execution_count": 11,
     "metadata": {},
     "output_type": "execute_result"
    }
   ],
   "source": [
    "d['k3']['man']"
   ]
  },
  {
   "cell_type": "code",
   "execution_count": 12,
   "id": "04708ce3-fd56-42bd-9f01-9fa207d08ada",
   "metadata": {},
   "outputs": [
    {
     "data": {
      "text/plain": [
       "{'k1': 123, 'k2': [1, 2, 3], 'k3': {'man': 1020, 'woman': 2000}}"
      ]
     },
     "execution_count": 12,
     "metadata": {},
     "output_type": "execute_result"
    }
   ],
   "source": [
    "d"
   ]
  },
  {
   "cell_type": "code",
   "execution_count": 13,
   "id": "12388c99-466a-4175-8e40-a51746eab7c3",
   "metadata": {},
   "outputs": [
    {
     "data": {
      "text/plain": [
       "2000"
      ]
     },
     "execution_count": 13,
     "metadata": {},
     "output_type": "execute_result"
    }
   ],
   "source": [
    "d['k3']['woman']"
   ]
  },
  {
   "cell_type": "code",
   "execution_count": 14,
   "id": "0098a45e-ee89-44b7-bd17-7617b71bb734",
   "metadata": {},
   "outputs": [],
   "source": [
    "d = {\"k1\":['a','b','c']}"
   ]
  },
  {
   "cell_type": "code",
   "execution_count": 15,
   "id": "f47635ee-9170-4807-8269-e470a86c49ac",
   "metadata": {},
   "outputs": [],
   "source": [
    "capital = d['k1'][2]"
   ]
  },
  {
   "cell_type": "code",
   "execution_count": 16,
   "id": "ac41e81c-9da4-4e9d-b36c-7e4a6f78c713",
   "metadata": {},
   "outputs": [
    {
     "name": "stdout",
     "output_type": "stream",
     "text": [
      "C\n"
     ]
    }
   ],
   "source": [
    "print(capital.upper())"
   ]
  },
  {
   "cell_type": "code",
   "execution_count": 17,
   "id": "d60eac20-427b-496a-ab68-66b0faaf3cee",
   "metadata": {},
   "outputs": [
    {
     "data": {
      "text/plain": [
       "dict_items([('k1', ['a', 'b', 'c'])])"
      ]
     },
     "execution_count": 17,
     "metadata": {},
     "output_type": "execute_result"
    }
   ],
   "source": [
    "d.items()"
   ]
  },
  {
   "cell_type": "code",
   "execution_count": 18,
   "id": "4c3e22f8-312e-478c-89ef-60c59b2e69b3",
   "metadata": {},
   "outputs": [
    {
     "data": {
      "text/plain": [
       "dict_values([['a', 'b', 'c']])"
      ]
     },
     "execution_count": 18,
     "metadata": {},
     "output_type": "execute_result"
    }
   ],
   "source": [
    "d.values()"
   ]
  },
  {
   "cell_type": "code",
   "execution_count": 19,
   "id": "e3e845bb-eb0c-49a2-a64b-992e7ff1106a",
   "metadata": {},
   "outputs": [
    {
     "data": {
      "text/plain": [
       "dict_keys(['k1'])"
      ]
     },
     "execution_count": 19,
     "metadata": {},
     "output_type": "execute_result"
    }
   ],
   "source": [
    "d.keys()"
   ]
  },
  {
   "cell_type": "code",
   "execution_count": null,
   "id": "99eb8d37-db4b-474a-a347-e61a14bad961",
   "metadata": {},
   "outputs": [],
   "source": []
  }
 ],
 "metadata": {
  "kernelspec": {
   "display_name": "Python 3 (ipykernel)",
   "language": "python",
   "name": "python3"
  },
  "language_info": {
   "codemirror_mode": {
    "name": "ipython",
    "version": 3
   },
   "file_extension": ".py",
   "mimetype": "text/x-python",
   "name": "python",
   "nbconvert_exporter": "python",
   "pygments_lexer": "ipython3",
   "version": "3.12.7"
  }
 },
 "nbformat": 4,
 "nbformat_minor": 5
}
