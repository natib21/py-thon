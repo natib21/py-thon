{
 "cells": [
  {
   "cell_type": "code",
   "execution_count": 1,
   "id": "2e0ed711-007b-41d5-95ea-b0f4f532b06c",
   "metadata": {},
   "outputs": [],
   "source": [
    "my_list = [1,2,3,4,5]"
   ]
  },
  {
   "cell_type": "code",
   "execution_count": 2,
   "id": "6ce5dbef-6657-48c6-aae9-fe78bafb6ef1",
   "metadata": {},
   "outputs": [],
   "source": [
    "my_list = [\"String\",2,3,4]"
   ]
  },
  {
   "cell_type": "code",
   "execution_count": 3,
   "id": "07fd9f25-b915-4e78-b49e-18434540002c",
   "metadata": {},
   "outputs": [
    {
     "data": {
      "text/plain": [
       "4"
      ]
     },
     "execution_count": 3,
     "metadata": {},
     "output_type": "execute_result"
    }
   ],
   "source": [
    "len(my_list)"
   ]
  },
  {
   "cell_type": "code",
   "execution_count": 4,
   "id": "f663392e-720d-4348-9da5-649b217f38b5",
   "metadata": {},
   "outputs": [],
   "source": [
    "my_list = [\"one\",\"two\",\"three\"]"
   ]
  },
  {
   "cell_type": "code",
   "execution_count": 5,
   "id": "72c9a94f-8ca2-40fe-b1d3-e65014fa6691",
   "metadata": {},
   "outputs": [
    {
     "data": {
      "text/plain": [
       "'one'"
      ]
     },
     "execution_count": 5,
     "metadata": {},
     "output_type": "execute_result"
    }
   ],
   "source": [
    "my_list[0]"
   ]
  },
  {
   "cell_type": "code",
   "execution_count": 7,
   "id": "08c38897-6d80-4de2-b629-43aeea938a70",
   "metadata": {},
   "outputs": [
    {
     "data": {
      "text/plain": [
       "['two', 'three']"
      ]
     },
     "execution_count": 7,
     "metadata": {},
     "output_type": "execute_result"
    }
   ],
   "source": [
    "my_list[1:]"
   ]
  },
  {
   "cell_type": "code",
   "execution_count": 8,
   "id": "6a2e5f42-cdf3-4647-81f8-76894bfdb3ca",
   "metadata": {},
   "outputs": [],
   "source": [
    "another_list = [\"four\",\"five\"]"
   ]
  },
  {
   "cell_type": "code",
   "execution_count": 9,
   "id": "2e038ad7-75ab-4ba5-8b17-9076d417bd2c",
   "metadata": {},
   "outputs": [],
   "source": [
    "new_list = my_list + another_list"
   ]
  },
  {
   "cell_type": "code",
   "execution_count": 10,
   "id": "633a960f-a343-4040-a5cc-8cfc15d64782",
   "metadata": {},
   "outputs": [
    {
     "name": "stdout",
     "output_type": "stream",
     "text": [
      "['one', 'two', 'three', 'four', 'five']\n"
     ]
    }
   ],
   "source": [
    "print(new_list)"
   ]
  },
  {
   "cell_type": "code",
   "execution_count": 11,
   "id": "8871e3aa-5722-4083-83c3-1963058ae9a1",
   "metadata": {},
   "outputs": [],
   "source": [
    "new_list[0] = \"ONE_ALL_CAPS\""
   ]
  },
  {
   "cell_type": "code",
   "execution_count": 12,
   "id": "6aaa5fd3-761c-4879-818a-5329aa1540ec",
   "metadata": {},
   "outputs": [
    {
     "name": "stdout",
     "output_type": "stream",
     "text": [
      "['ONE_ALL_CAPS', 'two', 'three', 'four', 'five']\n"
     ]
    }
   ],
   "source": [
    "print(new_list)"
   ]
  },
  {
   "cell_type": "code",
   "execution_count": 13,
   "id": "9ed8fc22-bcd0-4696-91b7-a9110e77a3c7",
   "metadata": {},
   "outputs": [
    {
     "name": "stdout",
     "output_type": "stream",
     "text": [
      "['ONE_ALL_CAPS', 'two', 'three', 'four', 'five', 'six']\n"
     ]
    }
   ],
   "source": [
    "new_list.append(\"six\")\n",
    "print(new_list)"
   ]
  },
  {
   "cell_type": "code",
   "execution_count": 14,
   "id": "dd6cfb9d-37ea-4349-b423-78a1c83fab2b",
   "metadata": {},
   "outputs": [
    {
     "data": {
      "text/plain": [
       "'six'"
      ]
     },
     "execution_count": 14,
     "metadata": {},
     "output_type": "execute_result"
    }
   ],
   "source": [
    "new_list.pop()"
   ]
  },
  {
   "cell_type": "code",
   "execution_count": 15,
   "id": "620e59a5-9e79-4519-b07e-5f5c1a54f673",
   "metadata": {},
   "outputs": [],
   "source": [
    "pop_list = new_list.pop()"
   ]
  },
  {
   "cell_type": "code",
   "execution_count": 16,
   "id": "cdcec2d8-9bd3-462c-bd8f-3751384566c4",
   "metadata": {},
   "outputs": [
    {
     "data": {
      "text/plain": [
       "['ONE_ALL_CAPS', 'two', 'three', 'four']"
      ]
     },
     "execution_count": 16,
     "metadata": {},
     "output_type": "execute_result"
    }
   ],
   "source": [
    "new_list"
   ]
  },
  {
   "cell_type": "code",
   "execution_count": 17,
   "id": "8a23f6b8-f313-438c-9b52-2a96d7c53d40",
   "metadata": {},
   "outputs": [
    {
     "data": {
      "text/plain": [
       "'ONE_ALL_CAPS'"
      ]
     },
     "execution_count": 17,
     "metadata": {},
     "output_type": "execute_result"
    }
   ],
   "source": [
    "new_list.pop(0)"
   ]
  },
  {
   "cell_type": "code",
   "execution_count": 18,
   "id": "bf1b805e-d2c9-49a5-aa5b-b6ec63896cc5",
   "metadata": {},
   "outputs": [
    {
     "name": "stdout",
     "output_type": "stream",
     "text": [
      "['two', 'three', 'four']\n"
     ]
    }
   ],
   "source": [
    "print(new_list)"
   ]
  },
  {
   "cell_type": "code",
   "execution_count": 19,
   "id": "0081ee04-2a73-49bb-af5a-bcd79102fe16",
   "metadata": {},
   "outputs": [],
   "source": [
    "new_list = [\"a\",\"t\",\"c\",\"d\",\"b\",\"b\"]\n",
    "num_list = [4,6,2,7,1]"
   ]
  },
  {
   "cell_type": "code",
   "execution_count": 20,
   "id": "42035547-9153-4074-b77d-eb700fb1284e",
   "metadata": {},
   "outputs": [],
   "source": [
    "num_list.sort()"
   ]
  },
  {
   "cell_type": "code",
   "execution_count": 21,
   "id": "8c5e4aad-e8b3-4820-acbf-8028ed1e36b4",
   "metadata": {},
   "outputs": [
    {
     "name": "stdout",
     "output_type": "stream",
     "text": [
      "None\n"
     ]
    }
   ],
   "source": [
    "print(num_list.sort())"
   ]
  },
  {
   "cell_type": "code",
   "execution_count": 22,
   "id": "c4cebaf1-cbdb-4c73-b79d-95fc4d4e0f56",
   "metadata": {},
   "outputs": [
    {
     "name": "stdout",
     "output_type": "stream",
     "text": [
      "None\n"
     ]
    }
   ],
   "source": [
    "sorted_num = num_list.sort()\n",
    "print(sorted_num)"
   ]
  },
  {
   "cell_type": "code",
   "execution_count": 23,
   "id": "3804a789-679b-4b19-918e-2678fcecc15e",
   "metadata": {},
   "outputs": [
    {
     "data": {
      "text/plain": [
       "['a', 't', 'c', 'd', 'b', 'b']"
      ]
     },
     "execution_count": 23,
     "metadata": {},
     "output_type": "execute_result"
    }
   ],
   "source": [
    "new_list"
   ]
  },
  {
   "cell_type": "code",
   "execution_count": 24,
   "id": "58da1c1d-862b-42c6-8900-b588eb77bd41",
   "metadata": {},
   "outputs": [],
   "source": [
    "new_list.sort()"
   ]
  },
  {
   "cell_type": "code",
   "execution_count": 26,
   "id": "12d54d9a-75a3-41e5-a889-6dc93693f76c",
   "metadata": {},
   "outputs": [
    {
     "data": {
      "text/plain": [
       "['a', 'b', 'b', 'c', 'd', 't']"
      ]
     },
     "execution_count": 26,
     "metadata": {},
     "output_type": "execute_result"
    }
   ],
   "source": [
    "new_list"
   ]
  },
  {
   "cell_type": "code",
   "execution_count": null,
   "id": "421dcbe5-35dc-40a6-aa5f-a8330d785e4d",
   "metadata": {},
   "outputs": [],
   "source": []
  }
 ],
 "metadata": {
  "kernelspec": {
   "display_name": "Python 3 (ipykernel)",
   "language": "python",
   "name": "python3"
  },
  "language_info": {
   "codemirror_mode": {
    "name": "ipython",
    "version": 3
   },
   "file_extension": ".py",
   "mimetype": "text/x-python",
   "name": "python",
   "nbconvert_exporter": "python",
   "pygments_lexer": "ipython3",
   "version": "3.12.7"
  }
 },
 "nbformat": 4,
 "nbformat_minor": 5
}
