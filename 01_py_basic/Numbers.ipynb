{
 "cells": [
  {
   "cell_type": "code",
   "execution_count": null,
   "id": "085ce23d-2537-4d3f-8b29-f728fab3b185",
   "metadata": {},
   "outputs": [],
   "source": []
  }
 ],
 "metadata": {
  "kernelspec": {
   "display_name": "",
   "name": ""
  },
  "language_info": {
   "name": ""
  }
 },
 "nbformat": 4,
 "nbformat_minor": 5
}
