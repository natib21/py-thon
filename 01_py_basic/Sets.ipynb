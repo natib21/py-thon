{
 "cells": [
  {
   "cell_type": "code",
   "execution_count": 1,
   "id": "8e12c4f6-73ef-41ac-ad35-be7a542a6e61",
   "metadata": {},
   "outputs": [],
   "source": [
    "my_set = set()"
   ]
  },
  {
   "cell_type": "code",
   "execution_count": 2,
   "id": "52632192-d62e-4fa4-b142-d2c6bb3a4fda",
   "metadata": {},
   "outputs": [],
   "source": [
    "my_set.add(1)"
   ]
  },
  {
   "cell_type": "code",
   "execution_count": 3,
   "id": "b24c9506-e987-49dd-85cb-f788ba58e8a2",
   "metadata": {},
   "outputs": [
    {
     "data": {
      "text/plain": [
       "{1}"
      ]
     },
     "execution_count": 3,
     "metadata": {},
     "output_type": "execute_result"
    }
   ],
   "source": [
    "my_set"
   ]
  },
  {
   "cell_type": "code",
   "execution_count": 4,
   "id": "b6e1f22c-4df5-4cba-8161-5c309db28bdd",
   "metadata": {},
   "outputs": [],
   "source": [
    "my_list = [1,2,2,2,2,3,4,4,4,5]"
   ]
  },
  {
   "cell_type": "code",
   "execution_count": 5,
   "id": "30ebbd62-6be9-4e0f-9dd5-ab48a2978b10",
   "metadata": {},
   "outputs": [],
   "source": [
    "my_set.add(3)"
   ]
  },
  {
   "cell_type": "code",
   "execution_count": 6,
   "id": "f93249fe-27e8-4615-a9fe-086511ea40e6",
   "metadata": {},
   "outputs": [
    {
     "data": {
      "text/plain": [
       "{1, 3}"
      ]
     },
     "execution_count": 6,
     "metadata": {},
     "output_type": "execute_result"
    }
   ],
   "source": [
    "my_set"
   ]
  },
  {
   "cell_type": "code",
   "execution_count": 8,
   "id": "198cae86-8abb-4710-b417-2e8cdb6ad115",
   "metadata": {},
   "outputs": [
    {
     "data": {
      "text/plain": [
       "{1, 2, 3, 4, 5}"
      ]
     },
     "execution_count": 8,
     "metadata": {},
     "output_type": "execute_result"
    }
   ],
   "source": [
    "set(my_list)"
   ]
  },
  {
   "cell_type": "code",
   "execution_count": null,
   "id": "b8192695-ba40-48c2-9c8c-7ca5e64b69e5",
   "metadata": {},
   "outputs": [],
   "source": [
    "myset"
   ]
  }
 ],
 "metadata": {
  "kernelspec": {
   "display_name": "Python 3 (ipykernel)",
   "language": "python",
   "name": "python3"
  },
  "language_info": {
   "codemirror_mode": {
    "name": "ipython",
    "version": 3
   },
   "file_extension": ".py",
   "mimetype": "text/x-python",
   "name": "python",
   "nbconvert_exporter": "python",
   "pygments_lexer": "ipython3",
   "version": "3.12.7"
  }
 },
 "nbformat": 4,
 "nbformat_minor": 5
}
