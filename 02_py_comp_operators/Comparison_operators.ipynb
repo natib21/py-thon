{
 "cells": [
  {
   "cell_type": "code",
   "execution_count": 1,
   "id": "8a0cec97-3801-4a87-99e6-dd45dd1d99a0",
   "metadata": {},
   "outputs": [
    {
     "data": {
      "text/plain": [
       "True"
      ]
     },
     "execution_count": 1,
     "metadata": {},
     "output_type": "execute_result"
    }
   ],
   "source": [
    "1 == 1"
   ]
  },
  {
   "cell_type": "code",
   "execution_count": 2,
   "id": "e2dce33b-9986-47e8-9c94-0e01b87af1f4",
   "metadata": {},
   "outputs": [
    {
     "data": {
      "text/plain": [
       "False"
      ]
     },
     "execution_count": 2,
     "metadata": {},
     "output_type": "execute_result"
    }
   ],
   "source": [
    "1 > 2"
   ]
  },
  {
   "cell_type": "code",
   "execution_count": 3,
   "id": "e67282a8-6b19-440b-b7d5-91676ce7ddde",
   "metadata": {},
   "outputs": [
    {
     "data": {
      "text/plain": [
       "True"
      ]
     },
     "execution_count": 3,
     "metadata": {},
     "output_type": "execute_result"
    }
   ],
   "source": [
    "2 == 2.0"
   ]
  },
  {
   "cell_type": "code",
   "execution_count": 4,
   "id": "6a45fd02-20cc-4036-b275-762b57a4e2fd",
   "metadata": {},
   "outputs": [
    {
     "data": {
      "text/plain": [
       "True"
      ]
     },
     "execution_count": 4,
     "metadata": {},
     "output_type": "execute_result"
    }
   ],
   "source": [
    "2 !=3"
   ]
  },
  {
   "cell_type": "code",
   "execution_count": 5,
   "id": "a626acbd-f417-4b28-84e5-31c533071eae",
   "metadata": {},
   "outputs": [
    {
     "data": {
      "text/plain": [
       "False"
      ]
     },
     "execution_count": 5,
     "metadata": {},
     "output_type": "execute_result"
    }
   ],
   "source": [
    "2 != 2 "
   ]
  },
  {
   "cell_type": "code",
   "execution_count": 6,
   "id": "9cb1fe30-a589-4d62-b2d9-7fbfdaede673",
   "metadata": {},
   "outputs": [
    {
     "data": {
      "text/plain": [
       "True"
      ]
     },
     "execution_count": 6,
     "metadata": {},
     "output_type": "execute_result"
    }
   ],
   "source": [
    "1 < 2 and 2 > 1  "
   ]
  },
  {
   "cell_type": "code",
   "execution_count": 7,
   "id": "88289c5a-3eb2-4042-87e2-876785aa2cb5",
   "metadata": {},
   "outputs": [
    {
     "data": {
      "text/plain": [
       "False"
      ]
     },
     "execution_count": 7,
     "metadata": {},
     "output_type": "execute_result"
    }
   ],
   "source": [
    "'h' == 'h' and 1 < 0"
   ]
  },
  {
   "cell_type": "code",
   "execution_count": 8,
   "id": "5aa97ee0-fa63-4619-987d-af9ee8dc635d",
   "metadata": {},
   "outputs": [
    {
     "data": {
      "text/plain": [
       "True"
      ]
     },
     "execution_count": 8,
     "metadata": {},
     "output_type": "execute_result"
    }
   ],
   "source": [
    "'h' == 'h' or 1 < 0"
   ]
  },
  {
   "cell_type": "code",
   "execution_count": null,
   "id": "30a06239-c04a-4819-aef4-1f06480ffcb5",
   "metadata": {},
   "outputs": [],
   "source": []
  }
 ],
 "metadata": {
  "kernelspec": {
   "display_name": "Python 3 (ipykernel)",
   "language": "python",
   "name": "python3"
  },
  "language_info": {
   "codemirror_mode": {
    "name": "ipython",
    "version": 3
   },
   "file_extension": ".py",
   "mimetype": "text/x-python",
   "name": "python",
   "nbconvert_exporter": "python",
   "pygments_lexer": "ipython3",
   "version": "3.12.7"
  }
 },
 "nbformat": 4,
 "nbformat_minor": 5
}
