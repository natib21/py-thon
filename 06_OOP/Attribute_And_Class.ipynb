{
 "cells": [
  {
   "cell_type": "code",
   "execution_count": 4,
   "id": "2e83d85b-a737-47dc-9b20-1d5bf10a64ec",
   "metadata": {},
   "outputs": [],
   "source": [
    "class Dog():\n",
    "    species = \"mammal\"\n",
    "    def __init__(self,breed,name,spots):\n",
    "        self.name = name\n",
    "        self.breed = breed\n",
    "        self.spots = spots\n",
    "    def bark(self,bark):\n",
    "        print(f'My Name Of The Dog is {self.name} and he is barking like {bark}')\n",
    "    "
   ]
  },
  {
   "cell_type": "code",
   "execution_count": 5,
   "id": "e0e7f440-1929-4e67-bcb4-e141a3b2c8f7",
   "metadata": {},
   "outputs": [],
   "source": [
    "my_dog = Dog(breed=\"German\",name=\"Sancho\",spots=False)"
   ]
  },
  {
   "cell_type": "code",
   "execution_count": 6,
   "id": "e04c4fcf-660b-4bde-8ccb-c5a4c97f6e96",
   "metadata": {},
   "outputs": [
    {
     "data": {
      "text/plain": [
       "'Sancho'"
      ]
     },
     "execution_count": 6,
     "metadata": {},
     "output_type": "execute_result"
    }
   ],
   "source": [
    "my_dog.name"
   ]
  },
  {
   "cell_type": "code",
   "execution_count": 10,
   "id": "aa0fc47a-e609-4bcc-985d-854971fba527",
   "metadata": {},
   "outputs": [
    {
     "name": "stdout",
     "output_type": "stream",
     "text": [
      "My Name Of The Dog is Sancho and he is barking like Wooooo Wooo Woo!!!\n"
     ]
    }
   ],
   "source": [
    "my_dog.bark(\"Wooooo Wooo Woo!!!\")"
   ]
  },
  {
   "cell_type": "code",
   "execution_count": 16,
   "id": "f840a35f-ed00-49ae-bd28-1291e2ca5e35",
   "metadata": {},
   "outputs": [],
   "source": [
    "class Circle():\n",
    "    pi = 3.14\n",
    "    def __init__(self,radius):\n",
    "        self.radius = radius\n",
    "        self.area = radius * radius * self.pi\n",
    "\n",
    "    def getCircumferance(self):\n",
    "        return self.radius * self.pi * 2        "
   ]
  },
  {
   "cell_type": "code",
   "execution_count": 17,
   "id": "d8900915-b243-4947-a6e8-2355d93d79f6",
   "metadata": {},
   "outputs": [],
   "source": [
    "my_circle = Circle(30)"
   ]
  },
  {
   "cell_type": "code",
   "execution_count": 18,
   "id": "9a81b828-8411-46cc-8a03-e76b0712657a",
   "metadata": {},
   "outputs": [
    {
     "data": {
      "text/plain": [
       "30"
      ]
     },
     "execution_count": 18,
     "metadata": {},
     "output_type": "execute_result"
    }
   ],
   "source": [
    "my_circle.radius"
   ]
  },
  {
   "cell_type": "code",
   "execution_count": 19,
   "id": "148e47b3-7011-42c6-ba64-c1c2f6c64ca2",
   "metadata": {},
   "outputs": [
    {
     "data": {
      "text/plain": [
       "3.14"
      ]
     },
     "execution_count": 19,
     "metadata": {},
     "output_type": "execute_result"
    }
   ],
   "source": [
    "my_circle.pi"
   ]
  },
  {
   "cell_type": "code",
   "execution_count": 20,
   "id": "59aacf6f-7b7c-4153-a3d7-ad198e6a88ce",
   "metadata": {},
   "outputs": [
    {
     "data": {
      "text/plain": [
       "188.4"
      ]
     },
     "execution_count": 20,
     "metadata": {},
     "output_type": "execute_result"
    }
   ],
   "source": [
    "my_circle.getCircumferance()"
   ]
  },
  {
   "cell_type": "code",
   "execution_count": 21,
   "id": "1f444579-6e79-4ec8-88ab-b9c54fb8f098",
   "metadata": {},
   "outputs": [
    {
     "data": {
      "text/plain": [
       "2826.0"
      ]
     },
     "execution_count": 21,
     "metadata": {},
     "output_type": "execute_result"
    }
   ],
   "source": [
    "my_circle.area"
   ]
  },
  {
   "cell_type": "code",
   "execution_count": null,
   "id": "9fa72968-bf34-4597-9cbf-19e53aa74c03",
   "metadata": {},
   "outputs": [],
   "source": []
  }
 ],
 "metadata": {
  "kernelspec": {
   "display_name": "Python 3 (ipykernel)",
   "language": "python",
   "name": "python3"
  },
  "language_info": {
   "codemirror_mode": {
    "name": "ipython",
    "version": 3
   },
   "file_extension": ".py",
   "mimetype": "text/x-python",
   "name": "python",
   "nbconvert_exporter": "python",
   "pygments_lexer": "ipython3",
   "version": "3.12.7"
  }
 },
 "nbformat": 4,
 "nbformat_minor": 5
}
