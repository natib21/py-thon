{
 "cells": [
  {
   "cell_type": "code",
   "execution_count": 1,
   "id": "76ef722b-e1ca-4129-a69a-eb5171fa9092",
   "metadata": {},
   "outputs": [],
   "source": [
    "word = 'Hello World'"
   ]
  },
  {
   "cell_type": "code",
   "execution_count": 2,
   "id": "63d501d2-e3ee-492a-9ed0-63462f0755ce",
   "metadata": {},
   "outputs": [
    {
     "name": "stdout",
     "output_type": "stream",
     "text": [
      "['H', 'e', 'l', 'l', 'o', ' ', 'W', 'o', 'r', 'l', 'd']\n"
     ]
    }
   ],
   "source": [
    "mylist = []\n",
    "for letters in word :\n",
    "    mylist.append(letters)\n",
    "print(mylist)    "
   ]
  },
  {
   "cell_type": "raw",
   "id": "5ed6131e-896d-4b61-a52b-2c990b1d2b0c",
   "metadata": {},
   "source": [
    "This is List Comprehension"
   ]
  },
  {
   "cell_type": "code",
   "execution_count": 3,
   "id": "036b6061-a9ac-4525-87f8-7b87ac143513",
   "metadata": {},
   "outputs": [
    {
     "data": {
      "text/plain": [
       "['H', 'e', 'l', 'l', 'o', ' ', 'W', 'o', 'r', 'l', 'd']"
      ]
     },
     "execution_count": 3,
     "metadata": {},
     "output_type": "execute_result"
    }
   ],
   "source": [
    "mylist = [x for x in word]\n",
    "mylist"
   ]
  },
  {
   "cell_type": "code",
   "execution_count": 5,
   "id": "acbbe3f0-1dac-43da-8502-4edf7fab4597",
   "metadata": {},
   "outputs": [
    {
     "data": {
      "text/plain": [
       "[0, 2, 4, 6, 8]"
      ]
     },
     "execution_count": 5,
     "metadata": {},
     "output_type": "execute_result"
    }
   ],
   "source": [
    "mylist =[num for num in range(0,10,2)]\n",
    "mylist"
   ]
  },
  {
   "cell_type": "code",
   "execution_count": 6,
   "id": "b9bfda2d-5993-4757-82a1-22138cae8ceb",
   "metadata": {},
   "outputs": [
    {
     "data": {
      "text/plain": [
       "[0, 4, 16, 36, 64]"
      ]
     },
     "execution_count": 6,
     "metadata": {},
     "output_type": "execute_result"
    }
   ],
   "source": [
    "mylist = [x**2 for x in range(0,10,2) if x%2 == 0]\n",
    "mylist"
   ]
  },
  {
   "cell_type": "code",
   "execution_count": 7,
   "id": "21ac129f-31ef-40ca-ad0a-240136ef4d7a",
   "metadata": {},
   "outputs": [],
   "source": [
    "celcius = [0,10,20,30,100]\n",
    "\n",
    "fahrenhiet = [((9/5) * temp + 32) for temp in celcius]"
   ]
  },
  {
   "cell_type": "code",
   "execution_count": 8,
   "id": "91238112-58e5-4056-a393-aa9474e0d770",
   "metadata": {},
   "outputs": [
    {
     "data": {
      "text/plain": [
       "[32.0, 50.0, 68.0, 86.0, 212.0]"
      ]
     },
     "execution_count": 8,
     "metadata": {},
     "output_type": "execute_result"
    }
   ],
   "source": [
    "fahrenhiet"
   ]
  },
  {
   "cell_type": "code",
   "execution_count": 9,
   "id": "2fbccd5b-0a02-414b-b1d0-a67512125852",
   "metadata": {},
   "outputs": [
    {
     "data": {
      "text/plain": [
       "[32.0, 50.0, 68.0, 86.0, 212.0]"
      ]
     },
     "execution_count": 9,
     "metadata": {},
     "output_type": "execute_result"
    }
   ],
   "source": [
    "farn = []\n",
    "\n",
    "for temp in celcius:\n",
    "    farn.append(((9/5)*temp + 32))\n",
    "farn    "
   ]
  },
  {
   "cell_type": "code",
   "execution_count": 10,
   "id": "ace10127-cebf-41dc-ada1-cb553cdbfef8",
   "metadata": {},
   "outputs": [
    {
     "data": {
      "text/plain": [
       "[200, 400, 600, 400, 800, 1200, 600, 1200, 1800]"
      ]
     },
     "execution_count": 10,
     "metadata": {},
     "output_type": "execute_result"
    }
   ],
   "source": [
    "mylist = []\n",
    "\n",
    "for n in [2,4,6]:\n",
    "    for j in [100,200,300]:\n",
    "        mylist.append(n * j)\n",
    "mylist        "
   ]
  },
  {
   "cell_type": "raw",
   "id": "f38f5daa-4450-433e-ab8c-79295ac270b4",
   "metadata": {},
   "source": [
    "Using List Comprehenision"
   ]
  },
  {
   "cell_type": "code",
   "execution_count": null,
   "id": "b7f39c5e-5c72-43aa-a83e-60d671a17c1b",
   "metadata": {},
   "outputs": [],
   "source": []
  }
 ],
 "metadata": {
  "kernelspec": {
   "display_name": "Python 3 (ipykernel)",
   "language": "python",
   "name": "python3"
  },
  "language_info": {
   "codemirror_mode": {
    "name": "ipython",
    "version": 3
   },
   "file_extension": ".py",
   "mimetype": "text/x-python",
   "name": "python",
   "nbconvert_exporter": "python",
   "pygments_lexer": "ipython3",
   "version": "3.12.7"
  }
 },
 "nbformat": 4,
 "nbformat_minor": 5
}
