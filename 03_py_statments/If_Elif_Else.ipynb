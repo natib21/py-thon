{
 "cells": [
  {
   "cell_type": "code",
   "execution_count": 5,
   "id": "179f71ab-f15e-4c22-aa45-7ceedd23ddd9",
   "metadata": {},
   "outputs": [
    {
     "name": "stdout",
     "output_type": "stream",
     "text": [
      "AM NOT HUNGRY\n"
     ]
    }
   ],
   "source": [
    "hungry = False\n",
    "if hungry:\n",
    "    print('FEED ME!')\n",
    "else:\n",
    "    print('AM NOT HUNGRY')"
   ]
  },
  {
   "cell_type": "code",
   "execution_count": 6,
   "id": "be956ea2-def4-4c5f-9c74-6460b81773fd",
   "metadata": {},
   "outputs": [
    {
     "name": "stdout",
     "output_type": "stream",
     "text": [
      "It is A Store\n"
     ]
    }
   ],
   "source": [
    "loc = 'Store'\n",
    "\n",
    "if loc == \"Car\":\n",
    "    print(\"It's a Car\")\n",
    "elif loc == \"Store\":\n",
    "    print(\"It is A Store\")\n",
    "else:\n",
    "    print(\"I "
   ]
  },
  {
   "cell_type": "code",
   "execution_count": null,
   "id": "9eedea75-1f00-48b5-936e-0e878ea01432",
   "metadata": {},
   "outputs": [],
   "source": []
  }
 ],
 "metadata": {
  "kernelspec": {
   "display_name": "Python 3 (ipykernel)",
   "language": "python",
   "name": "python3"
  },
  "language_info": {
   "codemirror_mode": {
    "name": "ipython",
    "version": 3
   },
   "file_extension": ".py",
   "mimetype": "text/x-python",
   "name": "python",
   "nbconvert_exporter": "python",
   "pygments_lexer": "ipython3",
   "version": "3.12.7"
  }
 },
 "nbformat": 4,
 "nbformat_minor": 5
}
